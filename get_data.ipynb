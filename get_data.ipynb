{
 "cells": [
  {
   "cell_type": "code",
   "execution_count": 1,
   "metadata": {},
   "outputs": [],
   "source": [
    "from bs4 import BeautifulSoup\n",
    "import pandas as pd\n",
    "import requests\n",
    "from urllib.request import urlopen\n",
    "import json\n",
    "import praw\n",
    "from praw.models import MoreComments"
   ]
  },
  {
   "cell_type": "code",
   "execution_count": 15,
   "metadata": {},
   "outputs": [],
   "source": [
    "url = \"https://www.reddit.com/r/OnePiece/wiki/manga_discussion/#wiki_1000-latest\" \n",
    "\n",
    "page = requests.get(url)\n",
    "\n",
    "soup = BeautifulSoup(page.content, \"html.parser\")\n",
    "tables = soup.find_all('table')\n",
    "\n"
   ]
  },
  {
   "cell_type": "code",
   "execution_count": 16,
   "metadata": {},
   "outputs": [],
   "source": [
    "chapters = []\n",
    "\n",
    "for i,table in enumerate(tables):\n",
    "    if i>0:\n",
    "        for j, row in enumerate(table.find_all('tr')):\n",
    "            if j != 0:\n",
    "                chapters.extend(row.find_all('td'))"
   ]
  },
  {
   "cell_type": "code",
   "execution_count": 17,
   "metadata": {},
   "outputs": [],
   "source": [
    "chapters_links = {}\n",
    "\n",
    "for chapter in chapters:\n",
    "    try:\n",
    "        number = chapter.text.split(' ')[1]\n",
    "        link = chapter.find('a')['href'][1:]\n",
    "    except:\n",
    "        pass\n",
    "    else:\n",
    "        chapters_links[number] = link"
   ]
  },
  {
   "cell_type": "code",
   "execution_count": 18,
   "metadata": {},
   "outputs": [
    {
     "name": "stdout",
     "output_type": "stream",
     "text": [
      "{'570': 'apksu', '571': 'as4ua', '572': 'av0b5', '573': 'ay7bb', '574': 'b0gz9', '575': 'b3b18', '576': 'b8y1d', '577': 'bbpgy', '578': 'bemjm', '579': 'bhq8d', '580': 'bktea', '581': 'bqwsy', '582': 'bu958', '583': 'bz76t', '584': 'bz76t', '585': 'c62nb', '586': 'c8f7e', '587': 'casr3', '588': 'cd9o5', '589': 'cid9q', '590': 'ckrso', '591': 'cn1hx', '592': 'cq1d0', '593': 'cs6nx', '594': 'cv5ii', '595': 'cxmbd', '596': 'd2t2e', '597': 'd5iig', '598': 'dkzrv', '599': 'dnp6y', '600': 'dr4ci', '601': 'du9zk', '602': 'dx7jx', '603': 'e02t2', '604': 'e42c1', '605': 'eb8y5', '606': 'ef156', '607': 'eivha', '608': 'embcj', '609': 'erbp9', '610': 'f10gp', '611': 'f5yq8', '612': 'f9iwh', '613': 'fdvug', '614': 'fi8y9', '615': 'fnbrv', '616': 'fr1rz', '617': 'g0j3v', '618': 'g5dr8', '619': 'geqjb', '620': 'gjvvh', '621': 'gug9m', '622': 'gug9m', '623': 'h11i0', '624': 'h8xje', '625': 'he9pm', '626': 'hjr5y', '627': 'hp4fy', '628': 'i0c1s', '629': 'i65h0', '630': 'ica9f', '631': 'ii4zu', '632': 'iniyd', '633': 'j1928', '634': 'j7r8f', '635': 'jlqxs', '636': 'jt6i2', '637': 'k06t1', '638': 'k7pd2', '639': 'kebq9', '640': 'kmxq4', '641': 'l1j1x', '642': 'l9j42', '643': 'lhfrd', '644': 'lqxfy', '645': 'lxjem', '646': 'mer8m', '647': 'mmeac', '648': 'musqp', '649': 'n3vrd', '650': 'ncbi6', '651': 'nr4gg', '652': 'oce48', '653': 'omahn', '654': 'ovxzt', '655': 'p61yu', '656': 'pg189', '657': 'pqmlb', '658': 'qb9hp', '659': 'qlnol', '660': 'qw23o', '661': 'r6nhu', '662': 'rhdwk', '663': 's47co', '664': 'sfvta', '665': 'swmqq', '666': 'telb9', '667': 'tqd5s', '668': 'u0xc5', '669': 'ubyg6', '670': 'unqzs', '671': 'uzk9w', '672': 'vobe3', '673': 'w0xks', '674': 'wbqat', '675': 'x4jxp', '676': 'xi2j4', '677': 'ye60p', '678': 'ys5l7', '679': 'z0ohx', '680': 'zdxnv', '681': 'zpb5x', '682': '104l4a', '683': '10t6nh', '684': '118rfy', '685': '11mffc', '686': '11zud8', '687': '12bwjg', '688': '12se1y', '689': '13i7vm', '690': '13xcyt', '691': '14bc2h', '692': '14pxek', '693': '151ui6', '694': '15i9z5', '695': '16ohym', '696': '1742un', '697': '17k0f1', '698': '17xddr', '699': '18vr1n', '700': '19bhb2', '701': '19rqjk', '702': '1al1bs', '703': '1b3on5', '704': '1bkuzu', '705': '1c2hhf', '706': '1cizbj', '707': '1cxf9w', '708': '1dxa7p', '709': '1edgsn', '710': '1fpqrp', '711': '1g6r2x', '712': '1h3llm', '713': '1hk2he', '714': '1hx9tr', '715': '1ih0u9', '716': '1jemn2', '717': '1jvb30', '718': '1kso6p', '719': '1l90vt', '720': '1lpglw', '721': '1m3hox', '722': '1n3bjc', '723': '1nkzcf', '724': '1nyz41', '725': '1ok913', '726': '1pgf11', '727': '1q0mfq', '728': '1qj2or', '729': '1r1pr7', '730': '1s064n', '731': '1sl3u5', '732': '1t33dk', '733': '1to1lq', '734': '1v9nu8', '735': '1vu7ur', '736': '1wgem9', '737': '1x2chr', '738': '1ybuia', '739': '1yz4d3', '740': '1zm2hm', '741': '207wo8', '742': '21egd9', '743': '21zypp', '744': '22lazb', '745': '23qzjs', '746': '24xq69', '747': '25ispy', '748': '263qtw', '749': '26ofvr', '750': '28fzo8', '751': '291ih8', '752': '29mwh1', '753': '2arbzy', '754': '2bhckd', '755': '2c4gmx', '756': '2crxte', '757': '2e2a3o', '758': '2etq0e', '759': '2fg6qr', '760': '2fzvvt', '761': '2gr3i2', '762': '2i30vp/', '763': '2ink46/', '764': '2jet56/', '765': '2k37aw/', '766': '2lh13t/', '767': '2m63xl/', '768': '2mriwa/', '769': '2nkgrj', '770': '2oyp4m/', '771': '2po62y/', '772': '2qfrkf/', '773': '2sia5n/', '774': '2t9v5e/', '775': '2u2h24/', '776': '2vn0um', '777': '2weubd', '778': '2x7rcg', '779': '2weubd', '780': '2zk3xe', '781': '30co9y', '782': '316e6k', '783': '31zd3s', '784': '33kmhb', '785': '355dhm', '786': '35x9ew', '787': '36qaus', '788': '37kf6j', '789': '38hplb', '790': '3a9cvr', '791': '3b1ohy', '792': '3budrz', '793': '3cnlx7', '794': '3dd3rr', '795': '3f4iu0', '796': '3fyvw3', '797': '3homkb', '798': '3ik6nq', '799': '3jgdla', '800': '3l4zh1', '801': '3m61x0', '802': '3n2jfk', '803': '3nt0e3', '804': '3pqou0', '805': '3qo3er', '806': '3rlc2a', '807': '3tf0n9', '808': '3ufyng', '809': '3vcfai', '810': '3x83rl', '811': '3yam5k', '812': '40xij4', '813': '41zy34', '814': '4330qo', '815': '4453ub', '816': '452np1', '817': '47itlk', '818': '48rwe2', '819': '49tcp9', '820': '4anu6j', '821': '4cpgic', '822': '4dqlu4', '823': '4eqv0m', '824': '4fsqjn', '825': '4hi8i6', '826': '4k216d', '827': '4l56xu', '828': '4m6rl3', '829': '4ocsfl', '830': '4pgdz0', '831': '4ql83t', '832': '4smudv', '833': '4twkmb', '834': '4v0qak', '835': '4w3z7y', '836': '4yc5vm', '837': '4zhy6q', '838': '50mz5z', '839': '52pyfe', '840': '53sj8i', '841': '551ifn', '842': '55yr6y', '843': '58gm1r', '844': '59odlr', '845': '5aqwnz', '846': '5dfdxz', '847': '5enggr', '848': '5fw4gf', '849': '5h6keu', '850': '5jpsq2', '851': '5kwt9h', '852': '5nihyq', '853': '5q900s', '854': '5rlh9h', '855': '5syryj', '856': '5udi7i', '857': '5x24xa', '858': '5ydzp4', '859': '5ziahd', '860': '610qvo', '861': '62coql', '862': '654a73', '863': '66gmzx', '864': '68ryzm', '865': '6aifwg', '866': '6d89b6', '867': '6eltkd', '868': '6fzon1', '869': '6hdmdg', '870': '6k6wkc', '871': '6llgo0', '872': '6mt30a', '873': '6og3wy', '874': '6riwdr', '875': '6u9e87', '876': '6vq2i3', '877': '6x60i9', '878': '6ztssg', '879': '71pf7g', '880': '7364yq', '881': '74e60y', '882': '77k5d5', '883': '791cug', '884': '7aas8n', '885': '7bzhu3', '886': '7ezmlj', '887': '7gt9vl', '888': '7id5af', '889': '7lfbdk', '890': '7mqvel', '891': '7pvug2', '892': '7t7u1d', '893': '7up8wh', '894': '7w2og5', '895': '7xwjia', '896': '81c34l', '897': '834dsz', '898': '84t1rv', '899': '86ic85', '900': '88879j', '901': '8bwsri', '902': '8dla2b', '903': '8ffr4q', '904': '8ilb7q', '905': '8lzc76', '906': '8npdh5', '907': '8phubn', '908': '8r85df', '909': '8uqfdc', '910': '8whgqa', '911': '8y6wpm', '912': '90d9ae', '913': '946ri8', '914': '97zgqq', '915': '99umk5', '916': '9bqo71', '917': '9ffit8', '918': '9hccc7', '919': '9jk59j', '920': '9l8wye', '921': '9pgloj', '922': '9rhvu6', '923': '9th6v8', '924': '9vhupk', '925': '9zlnmm', '926': 'a1pojh', '927': 'a3x364', '928': 'a7uk5z', '929': 'aavcyb', '930': 'ah7uqq', '931': 'alyvh8', '932': 'ao0bjx', '933': 'aqt4s6', '934': 'atdwfj', '935': 'aymln1', '936': 'b1ar66', '937': 'b3mp1o', '938': 'b6tp27', '939': 'bc9tod', '940': 'bevkkv', '941': 'bh4xic', '942': 'bmucy9', '943': 'bscyii', '944': 'bv3lug', '945': 'bxqwrq', '946': 'c36p23', '947': 'c6g89e', '948': 'c9c6qy', '949': 'cf3i0i', '950': 'chzwli', '951': 'ckzqoh', '952': 'crbjl4', '953': 'cu9eb5', '954': 'cxcf4h', '955': 'd339s8', '956': 'd69ivn', '957': 'd9vxbl', '958': 'dd2y91', '959': 'djixfr', '960': 'dmsln4', '961': 'dpiyna', '962': 'dwly9t', '963': 'dzw9x3', '964': 'e3a15r', '965': 'ea040v', '966': 'ed7ypr', '967': 'egl5f4', '968': 'eqt27y', '969': 'eu3ew5', '970': 'ewxj85', '971': 'f42t6z', '972': 'f7d7v8', '973': 'fee8mn', '974': 'fi7aat', '975': 'flro3r', '976': 'fu40qu', '977': 'fyubfe', '978': 'g76z1y', '979': 'gg31hk', '980': 'goday1', '981': 'gwy7jq', '982': 'h7eeo3', '983': 'hbw21f', '984': 'hkd3m8', '985': 'ht2yak', '986': 'i14z4h', '987': 'i58fv4', '988': 'idrz84', '989': 'imcto6', '990': 'iqo3cf', '991': 'izrq0p', '992': 'jbp7lt', '993': 'jgtd83', '994': 'jkkzeu', '995': 'jtcol9', '996': 'jx15u3', '997': 'k1v7cs', '998': 'kaym8z', '999': 'kfhfia', '1000': 'kks47m', '1001': 'kxpq5v', '1002': 'l7li4l', '1003': 'ld1rhu', '1004': 'li6me6', '1005': 'lsta9h', '1006': 'ly78qf', '1007': 'm3cs1g', '1008': 'mdiiw9', '1009': 'mie5k3', '1010': 'mnbt0v', '1011': 'mwpsdv', '1012': 'n6t5ja', '1013': 'nc2wm1', '1014': 'nms0lg', '1015': 'nrze4q', '1016': 'nx9oi4', '1017': 'o7ihff', '1018': 'oc4xp9', '1019': 'olblk7', '1020': 'oug7az', '1021': 'oz1pot', '1022': 'p7xaxc', '1023': 'pciqfk', '1024': 'ph00oa', '1025': 'plfq7e', '1026': 'pudw2z', '1027': 'pz2luo', '1028': 'q3shbo', '1029': 'qdbc7w', '1030': 'qi6x4y', '1031': 'qn6fdp', '1032': 'qxbfpv', '1033': 'r2ihpq', '1034': 'r7u0hk', '1035': 'ribqav', '1036': 'rpiewh', '1037': 's3l96y', '1038': 'sekftc', '1039': 'sk6yhi', '1040': 'spsmta', '1041': 't0zbh1', '1042': 't0zbh1', '1043': 'tbfkuc', '1044': 'tnb10t'}\n"
     ]
    }
   ],
   "source": [
    "print(chapters_links)"
   ]
  },
  {
   "cell_type": "code",
   "execution_count": 28,
   "metadata": {},
   "outputs": [],
   "source": [
    "reddit = praw.Reddit(\n",
    "    client_id=\"vLm93XnRg8ZmU5qx4QGL_g\",\n",
    "    client_secret=\"h6auvWIP0bUET8ZZz0XeL8WQ__2bQw\",\n",
    "    user_agent=\"Chapter analysis by Kaspar26\",\n",
    "    username='Kaspar26',\n",
    "    password='Maska263'\n",
    ")"
   ]
  },
  {
   "cell_type": "code",
   "execution_count": 29,
   "metadata": {},
   "outputs": [
    {
     "name": "stdout",
     "output_type": "stream",
     "text": [
      "False\n"
     ]
    }
   ],
   "source": [
    "print(reddit.read_only)"
   ]
  },
  {
   "cell_type": "code",
   "execution_count": 27,
   "metadata": {},
   "outputs": [
    {
     "name": "stdout",
     "output_type": "stream",
     "text": [
      "One Piece: Chapter 1043\n"
     ]
    }
   ],
   "source": [
    "submission = reddit.submission(\"tbfkuc\")\n",
    "print(submission.title)"
   ]
  },
  {
   "cell_type": "code",
   "execution_count": 30,
   "metadata": {},
   "outputs": [],
   "source": [
    "\n",
    "\n",
    "df = pd.DataFrame(columns=['chapter_nb','reddit_id','title','score','ratio','num_comments','created_utc'])\n",
    "comments_dict={}\n",
    "\n",
    "for key,value in chapters_links.items():\n",
    "    \n",
    "    submission = reddit.submission(value)\n",
    "    '''\n",
    "    df = df.append({\n",
    "            'chapter_nb' : key,\n",
    "            'reddit_id' : value,\n",
    "            'title': submission.title,\n",
    "            'score': submission.score,\n",
    "            'ratio': submission.upvote_ratio,\n",
    "            'num_comments': submission.num_comments,\n",
    "            'created_utc': submission.created_utc}, ignore_index=True)\n",
    "    '''\n",
    "    comments_dict[key] = submission.comments\n",
    "    \n",
    "\n",
    "   \n",
    "\n",
    "\n",
    "    "
   ]
  },
  {
   "cell_type": "code",
   "execution_count": 98,
   "metadata": {},
   "outputs": [],
   "source": [
    "import datetime as dt\n",
    "\n",
    "def get_date(created):\n",
    "\n",
    "    return dt.datetime.fromtimestamp(created)"
   ]
  },
  {
   "cell_type": "code",
   "execution_count": 99,
   "metadata": {},
   "outputs": [],
   "source": [
    "_timestamp = df[\"created_utc\"].apply(get_date)"
   ]
  },
  {
   "cell_type": "code",
   "execution_count": 101,
   "metadata": {},
   "outputs": [],
   "source": [
    "df = df.assign(timestamp=_timestamp)"
   ]
  },
  {
   "cell_type": "code",
   "execution_count": 103,
   "metadata": {},
   "outputs": [
    {
     "data": {
      "text/html": [
       "<div>\n",
       "<style scoped>\n",
       "    .dataframe tbody tr th:only-of-type {\n",
       "        vertical-align: middle;\n",
       "    }\n",
       "\n",
       "    .dataframe tbody tr th {\n",
       "        vertical-align: top;\n",
       "    }\n",
       "\n",
       "    .dataframe thead th {\n",
       "        text-align: right;\n",
       "    }\n",
       "</style>\n",
       "<table border=\"1\" class=\"dataframe\">\n",
       "  <thead>\n",
       "    <tr style=\"text-align: right;\">\n",
       "      <th></th>\n",
       "      <th>reddit_id</th>\n",
       "      <th>title</th>\n",
       "      <th>score</th>\n",
       "      <th>ratio</th>\n",
       "      <th>num_comments</th>\n",
       "      <th>chapter_nb</th>\n",
       "      <th>timestamp</th>\n",
       "    </tr>\n",
       "  </thead>\n",
       "  <tbody>\n",
       "    <tr>\n",
       "      <th>0</th>\n",
       "      <td>apksu</td>\n",
       "      <td>Chapter 570 is out!</td>\n",
       "      <td>5</td>\n",
       "      <td>1.00</td>\n",
       "      <td>5</td>\n",
       "      <td>570</td>\n",
       "      <td>2010-01-14 16:06:42</td>\n",
       "    </tr>\n",
       "    <tr>\n",
       "      <th>1</th>\n",
       "      <td>as4ua</td>\n",
       "      <td>Chapter 571 is out!</td>\n",
       "      <td>4</td>\n",
       "      <td>1.00</td>\n",
       "      <td>5</td>\n",
       "      <td>571</td>\n",
       "      <td>2010-01-21 00:48:35</td>\n",
       "    </tr>\n",
       "    <tr>\n",
       "      <th>2</th>\n",
       "      <td>av0b5</td>\n",
       "      <td>Chapter 572 is out!</td>\n",
       "      <td>3</td>\n",
       "      <td>0.81</td>\n",
       "      <td>2</td>\n",
       "      <td>572</td>\n",
       "      <td>2010-01-28 02:47:18</td>\n",
       "    </tr>\n",
       "    <tr>\n",
       "      <th>3</th>\n",
       "      <td>ay7bb</td>\n",
       "      <td>Chapter 573 (a bit higher quality) is out!</td>\n",
       "      <td>5</td>\n",
       "      <td>1.00</td>\n",
       "      <td>0</td>\n",
       "      <td>573</td>\n",
       "      <td>2010-02-05 00:19:27</td>\n",
       "    </tr>\n",
       "    <tr>\n",
       "      <th>4</th>\n",
       "      <td>b0gz9</td>\n",
       "      <td>One Piece 574 by JumpSpirit is out!</td>\n",
       "      <td>9</td>\n",
       "      <td>1.00</td>\n",
       "      <td>6</td>\n",
       "      <td>574</td>\n",
       "      <td>2010-02-10 19:19:22</td>\n",
       "    </tr>\n",
       "    <tr>\n",
       "      <th>...</th>\n",
       "      <td>...</td>\n",
       "      <td>...</td>\n",
       "      <td>...</td>\n",
       "      <td>...</td>\n",
       "      <td>...</td>\n",
       "      <td>...</td>\n",
       "      <td>...</td>\n",
       "    </tr>\n",
       "    <tr>\n",
       "      <th>470</th>\n",
       "      <td>spsmta</td>\n",
       "      <td>One Piece: Chapter 1040</td>\n",
       "      <td>7973</td>\n",
       "      <td>0.91</td>\n",
       "      <td>7159</td>\n",
       "      <td>1040</td>\n",
       "      <td>2022-02-11 07:35:34</td>\n",
       "    </tr>\n",
       "    <tr>\n",
       "      <th>471</th>\n",
       "      <td>t0zbh1</td>\n",
       "      <td>One Piece: Chapter 1041</td>\n",
       "      <td>6799</td>\n",
       "      <td>0.91</td>\n",
       "      <td>5071</td>\n",
       "      <td>1041</td>\n",
       "      <td>2022-02-25 09:51:09</td>\n",
       "    </tr>\n",
       "    <tr>\n",
       "      <th>472</th>\n",
       "      <td>t0zbh1</td>\n",
       "      <td>One Piece: Chapter 1041</td>\n",
       "      <td>6810</td>\n",
       "      <td>0.91</td>\n",
       "      <td>5071</td>\n",
       "      <td>1042</td>\n",
       "      <td>2022-02-25 09:51:09</td>\n",
       "    </tr>\n",
       "    <tr>\n",
       "      <th>473</th>\n",
       "      <td>tbfkuc</td>\n",
       "      <td>One Piece: Chapter 1043</td>\n",
       "      <td>20106</td>\n",
       "      <td>0.90</td>\n",
       "      <td>18046</td>\n",
       "      <td>1043</td>\n",
       "      <td>2022-03-11 03:24:34</td>\n",
       "    </tr>\n",
       "    <tr>\n",
       "      <th>474</th>\n",
       "      <td>tnb10t</td>\n",
       "      <td>One Piece: Chapter 1044</td>\n",
       "      <td>35337</td>\n",
       "      <td>0.91</td>\n",
       "      <td>36732</td>\n",
       "      <td>1044</td>\n",
       "      <td>2022-03-25 02:38:20</td>\n",
       "    </tr>\n",
       "  </tbody>\n",
       "</table>\n",
       "<p>475 rows × 7 columns</p>\n",
       "</div>"
      ],
      "text/plain": [
       "    reddit_id                                       title  score  ratio  \\\n",
       "0       apksu                         Chapter 570 is out!      5   1.00   \n",
       "1       as4ua                         Chapter 571 is out!      4   1.00   \n",
       "2       av0b5                         Chapter 572 is out!      3   0.81   \n",
       "3       ay7bb  Chapter 573 (a bit higher quality) is out!      5   1.00   \n",
       "4       b0gz9         One Piece 574 by JumpSpirit is out!      9   1.00   \n",
       "..        ...                                         ...    ...    ...   \n",
       "470    spsmta                     One Piece: Chapter 1040   7973   0.91   \n",
       "471    t0zbh1                     One Piece: Chapter 1041   6799   0.91   \n",
       "472    t0zbh1                     One Piece: Chapter 1041   6810   0.91   \n",
       "473    tbfkuc                     One Piece: Chapter 1043  20106   0.90   \n",
       "474    tnb10t                     One Piece: Chapter 1044  35337   0.91   \n",
       "\n",
       "    num_comments chapter_nb           timestamp  \n",
       "0              5        570 2010-01-14 16:06:42  \n",
       "1              5        571 2010-01-21 00:48:35  \n",
       "2              2        572 2010-01-28 02:47:18  \n",
       "3              0        573 2010-02-05 00:19:27  \n",
       "4              6        574 2010-02-10 19:19:22  \n",
       "..           ...        ...                 ...  \n",
       "470         7159       1040 2022-02-11 07:35:34  \n",
       "471         5071       1041 2022-02-25 09:51:09  \n",
       "472         5071       1042 2022-02-25 09:51:09  \n",
       "473        18046       1043 2022-03-11 03:24:34  \n",
       "474        36732       1044 2022-03-25 02:38:20  \n",
       "\n",
       "[475 rows x 7 columns]"
      ]
     },
     "metadata": {},
     "output_type": "display_data"
    }
   ],
   "source": [
    "df=df.drop('created_utc',axis=1)\n",
    "display(df)"
   ]
  },
  {
   "cell_type": "code",
   "execution_count": 104,
   "metadata": {},
   "outputs": [],
   "source": [
    "df.to_csv('chapter_data.csv')"
   ]
  },
  {
   "cell_type": "code",
   "execution_count": 31,
   "metadata": {},
   "outputs": [
    {
     "name": "stdout",
     "output_type": "stream",
     "text": [
      "{'570': <praw.models.comment_forest.CommentForest object at 0x0000021845E98580>, '571': <praw.models.comment_forest.CommentForest object at 0x0000021847FF4DC0>, '572': <praw.models.comment_forest.CommentForest object at 0x0000021847FF5750>, '573': <praw.models.comment_forest.CommentForest object at 0x0000021847FF59F0>, '574': <praw.models.comment_forest.CommentForest object at 0x0000021847FF5DB0>, '575': <praw.models.comment_forest.CommentForest object at 0x0000021847FF6560>, '576': <praw.models.comment_forest.CommentForest object at 0x0000021847FF6E30>, '577': <praw.models.comment_forest.CommentForest object at 0x0000021847FF7160>, '578': <praw.models.comment_forest.CommentForest object at 0x0000021847FF71F0>, '579': <praw.models.comment_forest.CommentForest object at 0x0000021847FF72E0>, '580': <praw.models.comment_forest.CommentForest object at 0x0000021847FF7F10>, '581': <praw.models.comment_forest.CommentForest object at 0x0000021847FF7D00>, '582': <praw.models.comment_forest.CommentForest object at 0x0000021847FE8550>, '583': <praw.models.comment_forest.CommentForest object at 0x0000021847FE8580>, '584': <praw.models.comment_forest.CommentForest object at 0x0000021847FE8B20>, '585': <praw.models.comment_forest.CommentForest object at 0x0000021847FE8730>, '586': <praw.models.comment_forest.CommentForest object at 0x0000021847FE9270>, '587': <praw.models.comment_forest.CommentForest object at 0x0000021847FE93F0>, '588': <praw.models.comment_forest.CommentForest object at 0x0000021847FE90C0>, '589': <praw.models.comment_forest.CommentForest object at 0x0000021847FE9C00>, '590': <praw.models.comment_forest.CommentForest object at 0x0000021847FE9F30>, '591': <praw.models.comment_forest.CommentForest object at 0x0000021847FEA470>, '592': <praw.models.comment_forest.CommentForest object at 0x0000021847FEAC80>, '593': <praw.models.comment_forest.CommentForest object at 0x0000021847FEBBB0>, '594': <praw.models.comment_forest.CommentForest object at 0x0000021847FEBD90>, '595': <praw.models.comment_forest.CommentForest object at 0x00000218482146D0>, '596': <praw.models.comment_forest.CommentForest object at 0x0000021848215030>, '597': <praw.models.comment_forest.CommentForest object at 0x00000218482157E0>, '598': <praw.models.comment_forest.CommentForest object at 0x0000021848216140>, '599': <praw.models.comment_forest.CommentForest object at 0x0000021847F36290>, '600': <praw.models.comment_forest.CommentForest object at 0x0000021848232680>, '601': <praw.models.comment_forest.CommentForest object at 0x0000021848233280>, '602': <praw.models.comment_forest.CommentForest object at 0x0000021848238370>, '603': <praw.models.comment_forest.CommentForest object at 0x0000021848239330>, '604': <praw.models.comment_forest.CommentForest object at 0x000002184823ACE0>, '605': <praw.models.comment_forest.CommentForest object at 0x000002184825C8E0>, '606': <praw.models.comment_forest.CommentForest object at 0x000002184825DE40>, '607': <praw.models.comment_forest.CommentForest object at 0x000002184825E290>, '608': <praw.models.comment_forest.CommentForest object at 0x000002184825E6E0>, '609': <praw.models.comment_forest.CommentForest object at 0x000002184825F160>, '610': <praw.models.comment_forest.CommentForest object at 0x000002184825FFA0>, '611': <praw.models.comment_forest.CommentForest object at 0x0000021848279030>, '612': <praw.models.comment_forest.CommentForest object at 0x00000218482796F0>, '613': <praw.models.comment_forest.CommentForest object at 0x0000021848279DE0>, '614': <praw.models.comment_forest.CommentForest object at 0x000002184827B280>, '615': <praw.models.comment_forest.CommentForest object at 0x000002184827BFD0>, '616': <praw.models.comment_forest.CommentForest object at 0x0000021848294460>, '617': <praw.models.comment_forest.CommentForest object at 0x0000021848296050>, '618': <praw.models.comment_forest.CommentForest object at 0x0000021848296A70>, '619': <praw.models.comment_forest.CommentForest object at 0x0000021848297EE0>, '620': <praw.models.comment_forest.CommentForest object at 0x00000218482B1E10>, '621': <praw.models.comment_forest.CommentForest object at 0x00000218482B3AC0>, '622': <praw.models.comment_forest.CommentForest object at 0x00000218482D0310>, '623': <praw.models.comment_forest.CommentForest object at 0x00000218482D1B40>, '624': <praw.models.comment_forest.CommentForest object at 0x00000218482D2D40>, '625': <praw.models.comment_forest.CommentForest object at 0x00000218482D3850>, '626': <praw.models.comment_forest.CommentForest object at 0x00000218482F0430>, '627': <praw.models.comment_forest.CommentForest object at 0x00000218482F2860>, '628': <praw.models.comment_forest.CommentForest object at 0x00000218482F3490>, '629': <praw.models.comment_forest.CommentForest object at 0x0000021848310790>, '630': <praw.models.comment_forest.CommentForest object at 0x0000021848312290>, '631': <praw.models.comment_forest.CommentForest object at 0x0000021848313E20>, '632': <praw.models.comment_forest.CommentForest object at 0x0000021848331750>, '633': <praw.models.comment_forest.CommentForest object at 0x00000218483331F0>, '634': <praw.models.comment_forest.CommentForest object at 0x0000021848358FA0>, '635': <praw.models.comment_forest.CommentForest object at 0x000002184838BF70>, '636': <praw.models.comment_forest.CommentForest object at 0x00000218483B0F70>, '637': <praw.models.comment_forest.CommentForest object at 0x00000218483D8DF0>, '638': <praw.models.comment_forest.CommentForest object at 0x00000218483DB490>, '639': <praw.models.comment_forest.CommentForest object at 0x00000218483D8E80>, '640': <praw.models.comment_forest.CommentForest object at 0x00000218483F6500>, '641': <praw.models.comment_forest.CommentForest object at 0x00000218483F6980>, '642': <praw.models.comment_forest.CommentForest object at 0x0000021848631240>, '643': <praw.models.comment_forest.CommentForest object at 0x00000218486557E0>, '644': <praw.models.comment_forest.CommentForest object at 0x0000021848655A80>, '645': <praw.models.comment_forest.CommentForest object at 0x00000218486BCCA0>, '646': <praw.models.comment_forest.CommentForest object at 0x00000218486FD3F0>, '647': <praw.models.comment_forest.CommentForest object at 0x000002184874BCA0>, '648': <praw.models.comment_forest.CommentForest object at 0x00000218487500A0>, '649': <praw.models.comment_forest.CommentForest object at 0x0000021848A28C10>, '650': <praw.models.comment_forest.CommentForest object at 0x0000021848A489D0>, '651': <praw.models.comment_forest.CommentForest object at 0x0000021848AB7160>, '652': <praw.models.comment_forest.CommentForest object at 0x0000021848B53910>, '653': <praw.models.comment_forest.CommentForest object at 0x0000021848B53FD0>, '654': <praw.models.comment_forest.CommentForest object at 0x0000021848E13E80>, '655': <praw.models.comment_forest.CommentForest object at 0x0000021848E18340>, '656': <praw.models.comment_forest.CommentForest object at 0x0000021848EDFFD0>, '657': <praw.models.comment_forest.CommentForest object at 0x0000021848F493C0>, '658': <praw.models.comment_forest.CommentForest object at 0x0000021848F49CC0>, '659': <praw.models.comment_forest.CommentForest object at 0x000002184942EE00>, '660': <praw.models.comment_forest.CommentForest object at 0x000002184942EF20>, '661': <praw.models.comment_forest.CommentForest object at 0x000002184942FA90>, '662': <praw.models.comment_forest.CommentForest object at 0x000002184958F640>, '663': <praw.models.comment_forest.CommentForest object at 0x00000218498AE0B0>, '664': <praw.models.comment_forest.CommentForest object at 0x00000218498AED10>, '665': <praw.models.comment_forest.CommentForest object at 0x00000218498AF0D0>, '666': <praw.models.comment_forest.CommentForest object at 0x0000021849973FD0>, '667': <praw.models.comment_forest.CommentForest object at 0x000002184997C4C0>, '668': <praw.models.comment_forest.CommentForest object at 0x00000218499DC5B0>, '669': <praw.models.comment_forest.CommentForest object at 0x0000021849C8CCD0>, '670': <praw.models.comment_forest.CommentForest object at 0x0000021849DFED70>, '671': <praw.models.comment_forest.CommentForest object at 0x0000021849DFF370>, '672': <praw.models.comment_forest.CommentForest object at 0x000002184A05FBE0>, '673': <praw.models.comment_forest.CommentForest object at 0x000002184A0CEAA0>, '674': <praw.models.comment_forest.CommentForest object at 0x000002184A16E6E0>, '675': <praw.models.comment_forest.CommentForest object at 0x000002184A691360>, '676': <praw.models.comment_forest.CommentForest object at 0x000002184A6F2B30>, '677': <praw.models.comment_forest.CommentForest object at 0x000002184A753310>, '678': <praw.models.comment_forest.CommentForest object at 0x000002184A75C490>, '679': <praw.models.comment_forest.CommentForest object at 0x000002184A75D360>, '680': <praw.models.comment_forest.CommentForest object at 0x000002184A81C8B0>, '681': <praw.models.comment_forest.CommentForest object at 0x000002184A81D3F0>, '682': <praw.models.comment_forest.CommentForest object at 0x000002184A8D0130>, '683': <praw.models.comment_forest.CommentForest object at 0x000002184A9F2AD0>, '684': <praw.models.comment_forest.CommentForest object at 0x000002184A9F30D0>, '685': <praw.models.comment_forest.CommentForest object at 0x000002184AECE590>, '686': <praw.models.comment_forest.CommentForest object at 0x000002184B262890>, '687': <praw.models.comment_forest.CommentForest object at 0x000002184B312DD0>, '688': <praw.models.comment_forest.CommentForest object at 0x000002184B607F10>, '689': <praw.models.comment_forest.CommentForest object at 0x000002184B67BE80>, '690': <praw.models.comment_forest.CommentForest object at 0x000002184B7574F0>, '691': <praw.models.comment_forest.CommentForest object at 0x000002184B757C70>, '692': <praw.models.comment_forest.CommentForest object at 0x000002184BCAF1F0>, '693': <praw.models.comment_forest.CommentForest object at 0x000002184BD7B160>, '694': <praw.models.comment_forest.CommentForest object at 0x000002184C0726B0>, '695': <praw.models.comment_forest.CommentForest object at 0x000002184C0ECE20>, '696': <praw.models.comment_forest.CommentForest object at 0x000002184C4276A0>, '697': <praw.models.comment_forest.CommentForest object at 0x000002184C8794B0>, '698': <praw.models.comment_forest.CommentForest object at 0x000002184C879B70>, '699': <praw.models.comment_forest.CommentForest object at 0x000002184CEBCF10>, '700': <praw.models.comment_forest.CommentForest object at 0x000002184CFF3EE0>, '701': <praw.models.comment_forest.CommentForest object at 0x000002184CFFC3A0>, '702': <praw.models.comment_forest.CommentForest object at 0x000002184D350730>, '703': <praw.models.comment_forest.CommentForest object at 0x000002184D671C90>, '704': <praw.models.comment_forest.CommentForest object at 0x000002184D780700>, '705': <praw.models.comment_forest.CommentForest object at 0x000002184DBE9750>, '706': <praw.models.comment_forest.CommentForest object at 0x000002184E11BA00>, '707': <praw.models.comment_forest.CommentForest object at 0x000002184E44E320>, '708': <praw.models.comment_forest.CommentForest object at 0x000002184E545570>, '709': <praw.models.comment_forest.CommentForest object at 0x000002184E545C30>, '710': <praw.models.comment_forest.CommentForest object at 0x000002184E61DF00>, '711': <praw.models.comment_forest.CommentForest object at 0x000002184EC3D6C0>, '712': <praw.models.comment_forest.CommentForest object at 0x000002184EC3DCC0>, '713': <praw.models.comment_forest.CommentForest object at 0x000002184ED77880>, '714': <praw.models.comment_forest.CommentForest object at 0x000002184F181BD0>, '715': <praw.models.comment_forest.CommentForest object at 0x000002184F494B20>, '716': <praw.models.comment_forest.CommentForest object at 0x000002184F4950C0>, '717': <praw.models.comment_forest.CommentForest object at 0x000002184F5EFFA0>, '718': <praw.models.comment_forest.CommentForest object at 0x000002184FAF59C0>, '719': <praw.models.comment_forest.CommentForest object at 0x000002184FB642E0>, '720': <praw.models.comment_forest.CommentForest object at 0x000002184FC40340>, '721': <praw.models.comment_forest.CommentForest object at 0x000002184FD86AA0>, '722': <praw.models.comment_forest.CommentForest object at 0x0000021850261450>, '723': <praw.models.comment_forest.CommentForest object at 0x00000218502619F0>, '724': <praw.models.comment_forest.CommentForest object at 0x00000218506C3700>, '725': <praw.models.comment_forest.CommentForest object at 0x00000218506C3CA0>, '726': <praw.models.comment_forest.CommentForest object at 0x00000218507FA410>, '727': <praw.models.comment_forest.CommentForest object at 0x0000021850CE9CF0>, '728': <praw.models.comment_forest.CommentForest object at 0x000002185107E2F0>, '729': <praw.models.comment_forest.CommentForest object at 0x000002185107EB30>, '730': <praw.models.comment_forest.CommentForest object at 0x0000021851167DC0>, '731': <praw.models.comment_forest.CommentForest object at 0x00000218515F5D80>, '732': <praw.models.comment_forest.CommentForest object at 0x00000218515F6320>, '733': <praw.models.comment_forest.CommentForest object at 0x0000021851C6BF70>, '734': <praw.models.comment_forest.CommentForest object at 0x0000021851D6B100>, '735': <praw.models.comment_forest.CommentForest object at 0x0000021851D6B7C0>, '736': <praw.models.comment_forest.CommentForest object at 0x00000218522AAE90>, '737': <praw.models.comment_forest.CommentForest object at 0x0000021852707F10>, '738': <praw.models.comment_forest.CommentForest object at 0x0000021852A3F190>, '739': <praw.models.comment_forest.CommentForest object at 0x0000021852A3F730>, '740': <praw.models.comment_forest.CommentForest object at 0x0000021852E64610>, '741': <praw.models.comment_forest.CommentForest object at 0x0000021852E64CD0>, '742': <praw.models.comment_forest.CommentForest object at 0x0000021847FF63B0>, '743': <praw.models.comment_forest.CommentForest object at 0x000002180E70FBB0>, '744': <praw.models.comment_forest.CommentForest object at 0x000002180392ED10>, '745': <praw.models.comment_forest.CommentForest object at 0x000002182A070D00>, '746': <praw.models.comment_forest.CommentForest object at 0x000002181CC16350>, '747': <praw.models.comment_forest.CommentForest object at 0x0000021828C2DFF0>, '748': <praw.models.comment_forest.CommentForest object at 0x0000021828C2D990>, '749': <praw.models.comment_forest.CommentForest object at 0x000002182A1F72B0>, '750': <praw.models.comment_forest.CommentForest object at 0x0000021802A0CD60>, '751': <praw.models.comment_forest.CommentForest object at 0x0000021848631570>, '752': <praw.models.comment_forest.CommentForest object at 0x0000021847F8C5B0>, '753': <praw.models.comment_forest.CommentForest object at 0x0000021847B0D510>, '754': <praw.models.comment_forest.CommentForest object at 0x0000021829C73CA0>, '755': <praw.models.comment_forest.CommentForest object at 0x0000021829C72860>, '756': <praw.models.comment_forest.CommentForest object at 0x0000021845D30250>, '757': <praw.models.comment_forest.CommentForest object at 0x00000218299457B0>, '758': <praw.models.comment_forest.CommentForest object at 0x0000021847A1F220>, '759': <praw.models.comment_forest.CommentForest object at 0x0000021847A1E9E0>, '760': <praw.models.comment_forest.CommentForest object at 0x0000021847A66800>, '761': <praw.models.comment_forest.CommentForest object at 0x0000021826CB8EB0>, '762': <praw.models.comment_forest.CommentForest object at 0x0000021826CB40D0>, '763': <praw.models.comment_forest.CommentForest object at 0x000002182F281D50>, '764': <praw.models.comment_forest.CommentForest object at 0x000002182F256C80>, '765': <praw.models.comment_forest.CommentForest object at 0x0000021845916050>, '766': <praw.models.comment_forest.CommentForest object at 0x0000021845916650>, '767': <praw.models.comment_forest.CommentForest object at 0x000002180CC138E0>, '768': <praw.models.comment_forest.CommentForest object at 0x000002180CC2E500>, '769': <praw.models.comment_forest.CommentForest object at 0x00000218067095A0>, '770': <praw.models.comment_forest.CommentForest object at 0x00000218067CB280>, '771': <praw.models.comment_forest.CommentForest object at 0x0000021845CFA0B0>, '772': <praw.models.comment_forest.CommentForest object at 0x0000021845F2F8B0>, '773': <praw.models.comment_forest.CommentForest object at 0x0000021845F2FEB0>, '774': <praw.models.comment_forest.CommentForest object at 0x0000021845FC8C70>, '775': <praw.models.comment_forest.CommentForest object at 0x000002180B798CA0>, '776': <praw.models.comment_forest.CommentForest object at 0x000002180409EE00>, '777': <praw.models.comment_forest.CommentForest object at 0x0000021804070BE0>, '778': <praw.models.comment_forest.CommentForest object at 0x000002180406F2B0>, '779': <praw.models.comment_forest.CommentForest object at 0x0000021847773E80>, '780': <praw.models.comment_forest.CommentForest object at 0x0000021847741600>, '781': <praw.models.comment_forest.CommentForest object at 0x00000218477416F0>, '782': <praw.models.comment_forest.CommentForest object at 0x00000218476423B0>, '783': <praw.models.comment_forest.CommentForest object at 0x0000021827005CF0>, '784': <praw.models.comment_forest.CommentForest object at 0x0000021827092BF0>, '785': <praw.models.comment_forest.CommentForest object at 0x0000021846468250>, '786': <praw.models.comment_forest.CommentForest object at 0x0000021846468850>, '787': <praw.models.comment_forest.CommentForest object at 0x00000218306F08B0>, '788': <praw.models.comment_forest.CommentForest object at 0x000002182E1C0D90>, '789': <praw.models.comment_forest.CommentForest object at 0x000002182E1C1330>, '790': <praw.models.comment_forest.CommentForest object at 0x000002184698AF20>, '791': <praw.models.comment_forest.CommentForest object at 0x000002182254A470>, '792': <praw.models.comment_forest.CommentForest object at 0x00000218298A9E40>, '793': <praw.models.comment_forest.CommentForest object at 0x0000021830186E60>, '794': <praw.models.comment_forest.CommentForest object at 0x0000021830186F50>, '795': <praw.models.comment_forest.CommentForest object at 0x00000218295C4910>, '796': <praw.models.comment_forest.CommentForest object at 0x000002183116D570>, '797': <praw.models.comment_forest.CommentForest object at 0x000002183116C670>, '798': <praw.models.comment_forest.CommentForest object at 0x000002184555CB80>, '799': <praw.models.comment_forest.CommentForest object at 0x00000218275C7F10>, '800': <praw.models.comment_forest.CommentForest object at 0x00000218275EBE20>, '801': <praw.models.comment_forest.CommentForest object at 0x0000021846CCD300>, '802': <praw.models.comment_forest.CommentForest object at 0x000002182EEA6590>, '803': <praw.models.comment_forest.CommentForest object at 0x0000021821CD4FA0>, '804': <praw.models.comment_forest.CommentForest object at 0x0000021821CD55A0>, '805': <praw.models.comment_forest.CommentForest object at 0x000002182789F910>, '806': <praw.models.comment_forest.CommentForest object at 0x00000218256E8EB0>, '807': <praw.models.comment_forest.CommentForest object at 0x00000218256E94B0>, '808': <praw.models.comment_forest.CommentForest object at 0x0000021831812140>, '809': <praw.models.comment_forest.CommentForest object at 0x000002182B8AAF80>, '810': <praw.models.comment_forest.CommentForest object at 0x000002182F63A4A0>, '811': <praw.models.comment_forest.CommentForest object at 0x000002180E78E260>, '812': <praw.models.comment_forest.CommentForest object at 0x0000021831C3DED0>, '813': <praw.models.comment_forest.CommentForest object at 0x000002182C177BE0>, '814': <praw.models.comment_forest.CommentForest object at 0x000002182CF71510>, '815': <praw.models.comment_forest.CommentForest object at 0x000002182F325660>, '816': <praw.models.comment_forest.CommentForest object at 0x000002182F324D90>, '817': <praw.models.comment_forest.CommentForest object at 0x000002182FA9F670>, '818': <praw.models.comment_forest.CommentForest object at 0x000002182FA9FC70>, '819': <praw.models.comment_forest.CommentForest object at 0x000002182BDF48B0>, '820': <praw.models.comment_forest.CommentForest object at 0x000002182E921E40>, '821': <praw.models.comment_forest.CommentForest object at 0x000002182E922440>, '822': <praw.models.comment_forest.CommentForest object at 0x0000021831552620>, '823': <praw.models.comment_forest.CommentForest object at 0x0000021831552C20>, '824': <praw.models.comment_forest.CommentForest object at 0x0000021828C44760>, '825': <praw.models.comment_forest.CommentForest object at 0x0000021830DC2710>, '826': <praw.models.comment_forest.CommentForest object at 0x000002182C0BD900>, '827': <praw.models.comment_forest.CommentForest object at 0x000002182C0BDF00>, '828': <praw.models.comment_forest.CommentForest object at 0x000002181C8D0AF0>, '829': <praw.models.comment_forest.CommentForest object at 0x00000218267A5FC0>, '830': <praw.models.comment_forest.CommentForest object at 0x00000218267A65C0>, '831': <praw.models.comment_forest.CommentForest object at 0x000002182D32C910>, '832': <praw.models.comment_forest.CommentForest object at 0x00000218451F1780>, '833': <praw.models.comment_forest.CommentForest object at 0x0000021830322DA0>, '834': <praw.models.comment_forest.CommentForest object at 0x000002182C8B7EE0>, '835': <praw.models.comment_forest.CommentForest object at 0x00000218458BCAF0>, '836': <praw.models.comment_forest.CommentForest object at 0x00000218458BD150>, '837': <praw.models.comment_forest.CommentForest object at 0x0000021844FB5D20>, '838': <praw.models.comment_forest.CommentForest object at 0x000002184500B9A0>, '839': <praw.models.comment_forest.CommentForest object at 0x0000021844542230>, '840': <praw.models.comment_forest.CommentForest object at 0x0000021844542830>, '841': <praw.models.comment_forest.CommentForest object at 0x000002180BA049A0>, '842': <praw.models.comment_forest.CommentForest object at 0x000002181283A800>, '843': <praw.models.comment_forest.CommentForest object at 0x0000021841290CD0>, '844': <praw.models.comment_forest.CommentForest object at 0x0000021841290520>, '845': <praw.models.comment_forest.CommentForest object at 0x000002181A21ABF0>, '846': <praw.models.comment_forest.CommentForest object at 0x000002180988F0D0>, '847': <praw.models.comment_forest.CommentForest object at 0x0000021825A58A30>, '848': <praw.models.comment_forest.CommentForest object at 0x000002181AC85600>, '849': <praw.models.comment_forest.CommentForest object at 0x000002182666F010>, '850': <praw.models.comment_forest.CommentForest object at 0x000002182666F610>, '851': <praw.models.comment_forest.CommentForest object at 0x00000218230C6DD0>, '852': <praw.models.comment_forest.CommentForest object at 0x0000021804CF0E50>, '853': <praw.models.comment_forest.CommentForest object at 0x00000218285F5C00>, '854': <praw.models.comment_forest.CommentForest object at 0x0000021820DABF70>, '855': <praw.models.comment_forest.CommentForest object at 0x0000021820DD04C0>, '856': <praw.models.comment_forest.CommentForest object at 0x000002180D0A9570>, '857': <praw.models.comment_forest.CommentForest object at 0x0000021844B3E5F0>, '858': <praw.models.comment_forest.CommentForest object at 0x0000021843F23A30>, '859': <praw.models.comment_forest.CommentForest object at 0x000002180D436170>, '860': <praw.models.comment_forest.CommentForest object at 0x000002180D436770>, '861': <praw.models.comment_forest.CommentForest object at 0x00000218432A8220>, '862': <praw.models.comment_forest.CommentForest object at 0x000002181529EE00>, '863': <praw.models.comment_forest.CommentForest object at 0x000002181529F400>, '864': <praw.models.comment_forest.CommentForest object at 0x0000021843375C00>, '865': <praw.models.comment_forest.CommentForest object at 0x00000218435C9AE0>, '866': <praw.models.comment_forest.CommentForest object at 0x0000021806383F40>, '867': <praw.models.comment_forest.CommentForest object at 0x0000021842E69780>, '868': <praw.models.comment_forest.CommentForest object at 0x000002181D3D0B80>, '869': <praw.models.comment_forest.CommentForest object at 0x000002181D3D0460>, '870': <praw.models.comment_forest.CommentForest object at 0x0000021809965360>, '871': <praw.models.comment_forest.CommentForest object at 0x0000021809964E20>, '872': <praw.models.comment_forest.CommentForest object at 0x00000218263CDF60>, '873': <praw.models.comment_forest.CommentForest object at 0x000002180AD1CAC0>, '874': <praw.models.comment_forest.CommentForest object at 0x000002180AD1D0C0>, '875': <praw.models.comment_forest.CommentForest object at 0x000002181C6622F0>, '876': <praw.models.comment_forest.CommentForest object at 0x000002180BE744C0>, '877': <praw.models.comment_forest.CommentForest object at 0x000002181E2CD1B0>, '878': <praw.models.comment_forest.CommentForest object at 0x000002181E2CCB50>, '879': <praw.models.comment_forest.CommentForest object at 0x000002180A065570>, '880': <praw.models.comment_forest.CommentForest object at 0x000002180C40C040>, '881': <praw.models.comment_forest.CommentForest object at 0x000002181EA39240>, '882': <praw.models.comment_forest.CommentForest object at 0x000002180E6A00D0>, '883': <praw.models.comment_forest.CommentForest object at 0x0000021802EEDD80>, '884': <praw.models.comment_forest.CommentForest object at 0x0000021809C69390>, '885': <praw.models.comment_forest.CommentForest object at 0x0000021809C69990>, '886': <praw.models.comment_forest.CommentForest object at 0x0000021806E457E0>, '887': <praw.models.comment_forest.CommentForest object at 0x000002180E25BF70>, '888': <praw.models.comment_forest.CommentForest object at 0x000002180E23C460>, '889': <praw.models.comment_forest.CommentForest object at 0x000002183F76C280>, '890': <praw.models.comment_forest.CommentForest object at 0x00000218399E6410>, '891': <praw.models.comment_forest.CommentForest object at 0x00000218399E6A10>, '892': <praw.models.comment_forest.CommentForest object at 0x0000021838108130>, '893': <praw.models.comment_forest.CommentForest object at 0x0000021844542260>, '894': <praw.models.comment_forest.CommentForest object at 0x000002180F8C65F0>, '895': <praw.models.comment_forest.CommentForest object at 0x000002180F8C6BF0>, '896': <praw.models.comment_forest.CommentForest object at 0x000002181B9D3370>, '897': <praw.models.comment_forest.CommentForest object at 0x000002183D4A9FC0>, '898': <praw.models.comment_forest.CommentForest object at 0x000002183D4AA5C0>, '899': <praw.models.comment_forest.CommentForest object at 0x0000021808BBEEC0>, '900': <praw.models.comment_forest.CommentForest object at 0x0000021808BBF4C0>, '901': <praw.models.comment_forest.CommentForest object at 0x00000218238459F0>, '902': <praw.models.comment_forest.CommentForest object at 0x000002181049CA00>, '903': <praw.models.comment_forest.CommentForest object at 0x000002183A9038B0>, '904': <praw.models.comment_forest.CommentForest object at 0x00000218337DDA80>, '905': <praw.models.comment_forest.CommentForest object at 0x0000021805520910>, '906': <praw.models.comment_forest.CommentForest object at 0x000002181581EA10>, '907': <praw.models.comment_forest.CommentForest object at 0x0000021841FC27D0>, '908': <praw.models.comment_forest.CommentForest object at 0x0000021818715660>, '909': <praw.models.comment_forest.CommentForest object at 0x000002183FF20F40>, '910': <praw.models.comment_forest.CommentForest object at 0x000002180AC8EF80>, '911': <praw.models.comment_forest.CommentForest object at 0x000002180AC8F580>, '912': <praw.models.comment_forest.CommentForest object at 0x00000218339EDD20>, '913': <praw.models.comment_forest.CommentForest object at 0x000002180C900FA0>, '914': <praw.models.comment_forest.CommentForest object at 0x000002180F09BE80>, '915': <praw.models.comment_forest.CommentForest object at 0x000002181B889810>, '916': <praw.models.comment_forest.CommentForest object at 0x0000021820068FD0>, '917': <praw.models.comment_forest.CommentForest object at 0x000002181CD6F6D0>, '918': <praw.models.comment_forest.CommentForest object at 0x000002181B4417B0>, '919': <praw.models.comment_forest.CommentForest object at 0x000002181B441DB0>, '920': <praw.models.comment_forest.CommentForest object at 0x0000021814A6CCD0>, '921': <praw.models.comment_forest.CommentForest object at 0x00000218218671C0>, '922': <praw.models.comment_forest.CommentForest object at 0x0000021809DB4C10>, '923': <praw.models.comment_forest.CommentForest object at 0x00000218066CBD30>, '924': <praw.models.comment_forest.CommentForest object at 0x00000218079B3700>, '925': <praw.models.comment_forest.CommentForest object at 0x000002181347CD30>, '926': <praw.models.comment_forest.CommentForest object at 0x00000218046D91B0>, '927': <praw.models.comment_forest.CommentForest object at 0x00000218046D97B0>, '928': <praw.models.comment_forest.CommentForest object at 0x000002181DEB8880>, '929': <praw.models.comment_forest.CommentForest object at 0x0000021822176050>, '930': <praw.models.comment_forest.CommentForest object at 0x00000218221766B0>, '931': <praw.models.comment_forest.CommentForest object at 0x000002180D9C9150>, '932': <praw.models.comment_forest.CommentForest object at 0x0000021806A9E7A0>, '933': <praw.models.comment_forest.CommentForest object at 0x00000218257CDF60>, '934': <praw.models.comment_forest.CommentForest object at 0x00000218220B35B0>, '935': <praw.models.comment_forest.CommentForest object at 0x00000218220B3BB0>, '936': <praw.models.comment_forest.CommentForest object at 0x0000021821DE45B0>, '937': <praw.models.comment_forest.CommentForest object at 0x0000021825EDA200>, '938': <praw.models.comment_forest.CommentForest object at 0x0000021825236080>, '939': <praw.models.comment_forest.CommentForest object at 0x0000021822845C30>, '940': <praw.models.comment_forest.CommentForest object at 0x0000021823766E90>, '941': <praw.models.comment_forest.CommentForest object at 0x00000218081CE7A0>, '942': <praw.models.comment_forest.CommentForest object at 0x00000218081CEE60>, '943': <praw.models.comment_forest.CommentForest object at 0x00000218247B4310>, '944': <praw.models.comment_forest.CommentForest object at 0x000002180A772F80>, '945': <praw.models.comment_forest.CommentForest object at 0x000002180A773580>, '946': <praw.models.comment_forest.CommentForest object at 0x0000021826D37190>, '947': <praw.models.comment_forest.CommentForest object at 0x0000021828162D70>, '948': <praw.models.comment_forest.CommentForest object at 0x000002182046A140>, '949': <praw.models.comment_forest.CommentForest object at 0x000002181DB5D120>, '950': <praw.models.comment_forest.CommentForest object at 0x000002182396A620>, '951': <praw.models.comment_forest.CommentForest object at 0x000002182396AC20>, '952': <praw.models.comment_forest.CommentForest object at 0x000002181F054940>, '953': <praw.models.comment_forest.CommentForest object at 0x000002181F054FA0>, '954': <praw.models.comment_forest.CommentForest object at 0x0000021839D8B400>, '955': <praw.models.comment_forest.CommentForest object at 0x000002180C85D390>, '956': <praw.models.comment_forest.CommentForest object at 0x0000021837DC0430>, '957': <praw.models.comment_forest.CommentForest object at 0x000002184228A890>, '958': <praw.models.comment_forest.CommentForest object at 0x000002183ADE0A30>, '959': <praw.models.comment_forest.CommentForest object at 0x000002183ADE3FD0>, '960': <praw.models.comment_forest.CommentForest object at 0x0000021810558070>, '961': <praw.models.comment_forest.CommentForest object at 0x0000021806B66EF0>, '962': <praw.models.comment_forest.CommentForest object at 0x0000021806B674F0>, '963': <praw.models.comment_forest.CommentForest object at 0x00000218414105B0>, '964': <praw.models.comment_forest.CommentForest object at 0x0000021818053790>, '965': <praw.models.comment_forest.CommentForest object at 0x0000021818053D90>, '966': <praw.models.comment_forest.CommentForest object at 0x000002183E51E8C0>, '967': <praw.models.comment_forest.CommentForest object at 0x000002183E51EEC0>, '968': <praw.models.comment_forest.CommentForest object at 0x000002183C83E830>, '969': <praw.models.comment_forest.CommentForest object at 0x00000218146F57E0>, '970': <praw.models.comment_forest.CommentForest object at 0x00000218146F5DE0>, '971': <praw.models.comment_forest.CommentForest object at 0x0000021818BD0EB0>, '972': <praw.models.comment_forest.CommentForest object at 0x0000021839653F40>, '973': <praw.models.comment_forest.CommentForest object at 0x0000021822DD6A70>, '974': <praw.models.comment_forest.CommentForest object at 0x0000021822DD70D0>, '975': <praw.models.comment_forest.CommentForest object at 0x000002180541DC30>, '976': <praw.models.comment_forest.CommentForest object at 0x000002181082C2B0>, '977': <praw.models.comment_forest.CommentForest object at 0x000002183C00EA10>, '978': <praw.models.comment_forest.CommentForest object at 0x000002180F2AA680>, '979': <praw.models.comment_forest.CommentForest object at 0x00000218123CCCA0>, '980': <praw.models.comment_forest.CommentForest object at 0x000002183981BA60>, '981': <praw.models.comment_forest.CommentForest object at 0x0000021840771600>, '982': <praw.models.comment_forest.CommentForest object at 0x00000218041A0A90>, '983': <praw.models.comment_forest.CommentForest object at 0x0000021840E69150>, '984': <praw.models.comment_forest.CommentForest object at 0x000002183E0DCD90>, '985': <praw.models.comment_forest.CommentForest object at 0x00000218147B48B0>, '986': <praw.models.comment_forest.CommentForest object at 0x0000021808789270>, '987': <praw.models.comment_forest.CommentForest object at 0x000002180878B0A0>, '988': <praw.models.comment_forest.CommentForest object at 0x000002183E6FD570>, '989': <praw.models.comment_forest.CommentForest object at 0x000002183B2B1540>, '990': <praw.models.comment_forest.CommentForest object at 0x0000021837C997B0>, '991': <praw.models.comment_forest.CommentForest object at 0x0000021820111C00>, '992': <praw.models.comment_forest.CommentForest object at 0x00000218186C0D00>, '993': <praw.models.comment_forest.CommentForest object at 0x000002183F11B880>, '994': <praw.models.comment_forest.CommentForest object at 0x000002183A413C10>, '995': <praw.models.comment_forest.CommentForest object at 0x000002183A4C4250>, '996': <praw.models.comment_forest.CommentForest object at 0x000002180F397A90>, '997': <praw.models.comment_forest.CommentForest object at 0x00000218211BEA70>, '998': <praw.models.comment_forest.CommentForest object at 0x00000218211BF070>, '999': <praw.models.comment_forest.CommentForest object at 0x000002180DF22CE0>, '1000': <praw.models.comment_forest.CommentForest object at 0x000002180DF232E0>, '1001': <praw.models.comment_forest.CommentForest object at 0x0000021832A9EF80>, '1002': <praw.models.comment_forest.CommentForest object at 0x0000021834B5F100>, '1003': <praw.models.comment_forest.CommentForest object at 0x00000218365A64A0>, '1004': <praw.models.comment_forest.CommentForest object at 0x0000021838CBAB30>, '1005': <praw.models.comment_forest.CommentForest object at 0x000002180B6CE380>, '1006': <praw.models.comment_forest.CommentForest object at 0x0000021832B21F90>, '1007': <praw.models.comment_forest.CommentForest object at 0x0000021832B22590>, '1008': <praw.models.comment_forest.CommentForest object at 0x00000218109A56F0>, '1009': <praw.models.comment_forest.CommentForest object at 0x00000218109A5CF0>, '1010': <praw.models.comment_forest.CommentForest object at 0x0000021812241480>, '1011': <praw.models.comment_forest.CommentForest object at 0x000002181597E020>, '1012': <praw.models.comment_forest.CommentForest object at 0x000002181597E620>, '1013': <praw.models.comment_forest.CommentForest object at 0x00000218229228F0>, '1014': <praw.models.comment_forest.CommentForest object at 0x0000021814B12A70>, '1015': <praw.models.comment_forest.CommentForest object at 0x0000021827469F00>, '1016': <praw.models.comment_forest.CommentForest object at 0x000002182746A500>, '1017': <praw.models.comment_forest.CommentForest object at 0x0000021817E52EF0>, '1018': <praw.models.comment_forest.CommentForest object at 0x0000021817E52530>, '1019': <praw.models.comment_forest.CommentForest object at 0x0000021819395E10>, '1020': <praw.models.comment_forest.CommentForest object at 0x00000218092C6380>, '1021': <praw.models.comment_forest.CommentForest object at 0x00000218092C6980>, '1022': <praw.models.comment_forest.CommentForest object at 0x000002180FC216C0>, '1023': <praw.models.comment_forest.CommentForest object at 0x000002180FC21CC0>, '1024': <praw.models.comment_forest.CommentForest object at 0x0000021824A8DDE0>, '1025': <praw.models.comment_forest.CommentForest object at 0x0000021824A8E3E0>, '1026': <praw.models.comment_forest.CommentForest object at 0x000002181D2728F0>, '1027': <praw.models.comment_forest.CommentForest object at 0x000002181D272EF0>, '1028': <praw.models.comment_forest.CommentForest object at 0x0000021805EB3190>, '1029': <praw.models.comment_forest.CommentForest object at 0x0000021805EB3790>, '1030': <praw.models.comment_forest.CommentForest object at 0x00000218078CFEB0>, '1031': <praw.models.comment_forest.CommentForest object at 0x0000021807864370>, '1032': <praw.models.comment_forest.CommentForest object at 0x00000218086F7BB0>, '1033': <praw.models.comment_forest.CommentForest object at 0x000002180D18FFD0>, '1034': <praw.models.comment_forest.CommentForest object at 0x000002180D198580>, '1035': <praw.models.comment_forest.CommentForest object at 0x000002180EAB0B50>, '1036': <praw.models.comment_forest.CommentForest object at 0x000002180EAB1150>, '1037': <praw.models.comment_forest.CommentForest object at 0x0000021810EC8460>, '1038': <praw.models.comment_forest.CommentForest object at 0x0000021811370BB0>, '1039': <praw.models.comment_forest.CommentForest object at 0x0000021811EFD2D0>, '1040': <praw.models.comment_forest.CommentForest object at 0x0000021811EFD8D0>, '1041': <praw.models.comment_forest.CommentForest object at 0x0000021813FA2170>, '1042': <praw.models.comment_forest.CommentForest object at 0x0000021814E46B60>, '1043': <praw.models.comment_forest.CommentForest object at 0x0000021816162CE0>, '1044': <praw.models.comment_forest.CommentForest object at 0x00000218161632E0>}\n"
     ]
    }
   ],
   "source": [
    "print(comments_dict)"
   ]
  },
  {
   "cell_type": "code",
   "execution_count": 36,
   "metadata": {},
   "outputs": [],
   "source": [
    "from time import sleep\n",
    "\n",
    "def get_comments(df,chapter, level,comments):\n",
    "    #comments.replace_more(limit=None)\n",
    "    for comment in comments:\n",
    "        if isinstance(comment,MoreComments):\n",
    "            df = get_comments(df,chapter,level,comment.comments())\n",
    "        else:\n",
    "            try:\n",
    "                df.loc[len(df.index)] = [chapter,level,comment.body] \n",
    "            except Exception as e:\n",
    "                print(e)\n",
    "                sleep(300)\n",
    "                #df.loc[len(df.index)] = [chapter,level,comment.body] \n",
    "            \n",
    "            df = get_comments(df,chapter,level+1,comment.replies)\n",
    "            \n",
    "    return df"
   ]
  },
  {
   "cell_type": "code",
   "execution_count": 37,
   "metadata": {},
   "outputs": [
    {
     "ename": "TooManyRequests",
     "evalue": "received 429 HTTP response",
     "output_type": "error",
     "traceback": [
      "\u001b[1;31m---------------------------------------------------------------------------\u001b[0m",
      "\u001b[1;31mTooManyRequests\u001b[0m                           Traceback (most recent call last)",
      "Cell \u001b[1;32mIn[37], line 4\u001b[0m\n\u001b[0;32m      1\u001b[0m df_comments \u001b[39m=\u001b[39m pd\u001b[39m.\u001b[39mDataFrame(columns\u001b[39m=\u001b[39m[\u001b[39m'\u001b[39m\u001b[39mChapter_nb\u001b[39m\u001b[39m'\u001b[39m,\u001b[39m'\u001b[39m\u001b[39mlevel\u001b[39m\u001b[39m'\u001b[39m,\u001b[39m'\u001b[39m\u001b[39mcomment\u001b[39m\u001b[39m'\u001b[39m])\n\u001b[0;32m      3\u001b[0m \u001b[39mfor\u001b[39;00m key,value \u001b[39min\u001b[39;00m comments_dict\u001b[39m.\u001b[39mitems():\n\u001b[1;32m----> 4\u001b[0m     df_comments\u001b[39m=\u001b[39m get_comments(df_comments,key,\u001b[39m1\u001b[39;49m,value)\n",
      "Cell \u001b[1;32mIn[36], line 16\u001b[0m, in \u001b[0;36mget_comments\u001b[1;34m(df, chapter, level, comments)\u001b[0m\n\u001b[0;32m     13\u001b[0m             sleep(\u001b[39m300\u001b[39m)\n\u001b[0;32m     14\u001b[0m             \u001b[39m#df.loc[len(df.index)] = [chapter,level,comment.body] \u001b[39;00m\n\u001b[1;32m---> 16\u001b[0m         df \u001b[39m=\u001b[39m get_comments(df,chapter,level\u001b[39m+\u001b[39;49m\u001b[39m1\u001b[39;49m,comment\u001b[39m.\u001b[39;49mreplies)\n\u001b[0;32m     18\u001b[0m \u001b[39mreturn\u001b[39;00m df\n",
      "Cell \u001b[1;32mIn[36], line 16\u001b[0m, in \u001b[0;36mget_comments\u001b[1;34m(df, chapter, level, comments)\u001b[0m\n\u001b[0;32m     13\u001b[0m             sleep(\u001b[39m300\u001b[39m)\n\u001b[0;32m     14\u001b[0m             \u001b[39m#df.loc[len(df.index)] = [chapter,level,comment.body] \u001b[39;00m\n\u001b[1;32m---> 16\u001b[0m         df \u001b[39m=\u001b[39m get_comments(df,chapter,level\u001b[39m+\u001b[39;49m\u001b[39m1\u001b[39;49m,comment\u001b[39m.\u001b[39;49mreplies)\n\u001b[0;32m     18\u001b[0m \u001b[39mreturn\u001b[39;00m df\n",
      "    \u001b[1;31m[... skipping similar frames: get_comments at line 16 (1 times)]\u001b[0m\n",
      "Cell \u001b[1;32mIn[36], line 16\u001b[0m, in \u001b[0;36mget_comments\u001b[1;34m(df, chapter, level, comments)\u001b[0m\n\u001b[0;32m     13\u001b[0m             sleep(\u001b[39m300\u001b[39m)\n\u001b[0;32m     14\u001b[0m             \u001b[39m#df.loc[len(df.index)] = [chapter,level,comment.body] \u001b[39;00m\n\u001b[1;32m---> 16\u001b[0m         df \u001b[39m=\u001b[39m get_comments(df,chapter,level\u001b[39m+\u001b[39;49m\u001b[39m1\u001b[39;49m,comment\u001b[39m.\u001b[39;49mreplies)\n\u001b[0;32m     18\u001b[0m \u001b[39mreturn\u001b[39;00m df\n",
      "Cell \u001b[1;32mIn[36], line 7\u001b[0m, in \u001b[0;36mget_comments\u001b[1;34m(df, chapter, level, comments)\u001b[0m\n\u001b[0;32m      5\u001b[0m \u001b[39mfor\u001b[39;00m comment \u001b[39min\u001b[39;00m comments:\n\u001b[0;32m      6\u001b[0m     \u001b[39mif\u001b[39;00m \u001b[39misinstance\u001b[39m(comment,MoreComments):\n\u001b[1;32m----> 7\u001b[0m         df \u001b[39m=\u001b[39m get_comments(df,chapter,level,comment\u001b[39m.\u001b[39;49mcomments())\n\u001b[0;32m      8\u001b[0m     \u001b[39melse\u001b[39;00m:\n\u001b[0;32m      9\u001b[0m         \u001b[39mtry\u001b[39;00m:\n",
      "Cell \u001b[1;32mIn[36], line 7\u001b[0m, in \u001b[0;36mget_comments\u001b[1;34m(df, chapter, level, comments)\u001b[0m\n\u001b[0;32m      5\u001b[0m \u001b[39mfor\u001b[39;00m comment \u001b[39min\u001b[39;00m comments:\n\u001b[0;32m      6\u001b[0m     \u001b[39mif\u001b[39;00m \u001b[39misinstance\u001b[39m(comment,MoreComments):\n\u001b[1;32m----> 7\u001b[0m         df \u001b[39m=\u001b[39m get_comments(df,chapter,level,comment\u001b[39m.\u001b[39;49mcomments())\n\u001b[0;32m      8\u001b[0m     \u001b[39melse\u001b[39;00m:\n\u001b[0;32m      9\u001b[0m         \u001b[39mtry\u001b[39;00m:\n",
      "File \u001b[1;32m~\\AppData\\Local\\Packages\\PythonSoftwareFoundation.Python.3.10_qbz5n2kfra8p0\\LocalCache\\local-packages\\Python310\\site-packages\\praw\\util\\deprecate_args.py:43\u001b[0m, in \u001b[0;36m_deprecate_args.<locals>.wrapper.<locals>.wrapped\u001b[1;34m(*args, **kwargs)\u001b[0m\n\u001b[0;32m     36\u001b[0m     arg_string \u001b[39m=\u001b[39m _generate_arg_string(_old_args[: \u001b[39mlen\u001b[39m(args)])\n\u001b[0;32m     37\u001b[0m     warn(\n\u001b[0;32m     38\u001b[0m         \u001b[39mf\u001b[39m\u001b[39m\"\u001b[39m\u001b[39mPositional arguments for \u001b[39m\u001b[39m{\u001b[39;00mfunc\u001b[39m.\u001b[39m\u001b[39m__qualname__\u001b[39m\u001b[39m!r}\u001b[39;00m\u001b[39m will no longer be\u001b[39m\u001b[39m\"\u001b[39m\n\u001b[0;32m     39\u001b[0m         \u001b[39mf\u001b[39m\u001b[39m\"\u001b[39m\u001b[39m supported in PRAW 8.\u001b[39m\u001b[39m\\n\u001b[39;00m\u001b[39mCall this function with \u001b[39m\u001b[39m{\u001b[39;00marg_string\u001b[39m}\u001b[39;00m\u001b[39m.\u001b[39m\u001b[39m\"\u001b[39m,\n\u001b[0;32m     40\u001b[0m         \u001b[39mDeprecationWarning\u001b[39;00m,\n\u001b[0;32m     41\u001b[0m         stacklevel\u001b[39m=\u001b[39m\u001b[39m2\u001b[39m,\n\u001b[0;32m     42\u001b[0m     )\n\u001b[1;32m---> 43\u001b[0m \u001b[39mreturn\u001b[39;00m func(\u001b[39m*\u001b[39m\u001b[39m*\u001b[39m\u001b[39mdict\u001b[39m(\u001b[39mzip\u001b[39m(_old_args, args)), \u001b[39m*\u001b[39m\u001b[39m*\u001b[39mkwargs)\n",
      "File \u001b[1;32m~\\AppData\\Local\\Packages\\PythonSoftwareFoundation.Python.3.10_qbz5n2kfra8p0\\LocalCache\\local-packages\\Python310\\site-packages\\praw\\models\\reddit\\more.py:69\u001b[0m, in \u001b[0;36mMoreComments.comments\u001b[1;34m(self, update)\u001b[0m\n\u001b[0;32m     67\u001b[0m \u001b[39mif\u001b[39;00m \u001b[39mself\u001b[39m\u001b[39m.\u001b[39m_comments \u001b[39mis\u001b[39;00m \u001b[39mNone\u001b[39;00m:\n\u001b[0;32m     68\u001b[0m     \u001b[39mif\u001b[39;00m \u001b[39mself\u001b[39m\u001b[39m.\u001b[39mcount \u001b[39m==\u001b[39m \u001b[39m0\u001b[39m:  \u001b[39m# Handle \"continue this thread\"\u001b[39;00m\n\u001b[1;32m---> 69\u001b[0m         \u001b[39mreturn\u001b[39;00m \u001b[39mself\u001b[39;49m\u001b[39m.\u001b[39;49m_continue_comments(update)\n\u001b[0;32m     70\u001b[0m     \u001b[39massert\u001b[39;00m \u001b[39mself\u001b[39m\u001b[39m.\u001b[39mchildren, \u001b[39m\"\u001b[39m\u001b[39mPlease file a bug report with PRAW.\u001b[39m\u001b[39m\"\u001b[39m\n\u001b[0;32m     71\u001b[0m     data \u001b[39m=\u001b[39m {\n\u001b[0;32m     72\u001b[0m         \u001b[39m\"\u001b[39m\u001b[39mchildren\u001b[39m\u001b[39m\"\u001b[39m: \u001b[39m\"\u001b[39m\u001b[39m,\u001b[39m\u001b[39m\"\u001b[39m\u001b[39m.\u001b[39mjoin(\u001b[39mself\u001b[39m\u001b[39m.\u001b[39mchildren),\n\u001b[0;32m     73\u001b[0m         \u001b[39m\"\u001b[39m\u001b[39mlink_id\u001b[39m\u001b[39m\"\u001b[39m: \u001b[39mself\u001b[39m\u001b[39m.\u001b[39msubmission\u001b[39m.\u001b[39mfullname,\n\u001b[0;32m     74\u001b[0m         \u001b[39m\"\u001b[39m\u001b[39msort\u001b[39m\u001b[39m\"\u001b[39m: \u001b[39mself\u001b[39m\u001b[39m.\u001b[39msubmission\u001b[39m.\u001b[39mcomment_sort,\n\u001b[0;32m     75\u001b[0m     }\n",
      "File \u001b[1;32m~\\AppData\\Local\\Packages\\PythonSoftwareFoundation.Python.3.10_qbz5n2kfra8p0\\LocalCache\\local-packages\\Python310\\site-packages\\praw\\models\\reddit\\more.py:45\u001b[0m, in \u001b[0;36mMoreComments._continue_comments\u001b[1;34m(self, update)\u001b[0m\n\u001b[0;32m     43\u001b[0m \u001b[39mdef\u001b[39;00m \u001b[39m_continue_comments\u001b[39m(\u001b[39mself\u001b[39m, update):\n\u001b[0;32m     44\u001b[0m     \u001b[39massert\u001b[39;00m \u001b[39mnot\u001b[39;00m \u001b[39mself\u001b[39m\u001b[39m.\u001b[39mchildren, \u001b[39m\"\u001b[39m\u001b[39mPlease file a bug report with PRAW.\u001b[39m\u001b[39m\"\u001b[39m\n\u001b[1;32m---> 45\u001b[0m     parent \u001b[39m=\u001b[39m \u001b[39mself\u001b[39;49m\u001b[39m.\u001b[39;49m_load_comment(\u001b[39mself\u001b[39;49m\u001b[39m.\u001b[39;49mparent_id\u001b[39m.\u001b[39;49msplit(\u001b[39m\"\u001b[39;49m\u001b[39m_\u001b[39;49m\u001b[39m\"\u001b[39;49m, \u001b[39m1\u001b[39;49m)[\u001b[39m1\u001b[39;49m])\n\u001b[0;32m     46\u001b[0m     \u001b[39mself\u001b[39m\u001b[39m.\u001b[39m_comments \u001b[39m=\u001b[39m parent\u001b[39m.\u001b[39mreplies\n\u001b[0;32m     47\u001b[0m     \u001b[39mif\u001b[39;00m update:\n",
      "File \u001b[1;32m~\\AppData\\Local\\Packages\\PythonSoftwareFoundation.Python.3.10_qbz5n2kfra8p0\\LocalCache\\local-packages\\Python310\\site-packages\\praw\\models\\reddit\\more.py:54\u001b[0m, in \u001b[0;36mMoreComments._load_comment\u001b[1;34m(self, comment_id)\u001b[0m\n\u001b[0;32m     52\u001b[0m \u001b[39mdef\u001b[39;00m \u001b[39m_load_comment\u001b[39m(\u001b[39mself\u001b[39m, comment_id):\n\u001b[0;32m     53\u001b[0m     path \u001b[39m=\u001b[39m \u001b[39mf\u001b[39m\u001b[39m\"\u001b[39m\u001b[39m{\u001b[39;00mAPI_PATH[\u001b[39m'\u001b[39m\u001b[39msubmission\u001b[39m\u001b[39m'\u001b[39m]\u001b[39m.\u001b[39mformat(\u001b[39mid\u001b[39m\u001b[39m=\u001b[39m\u001b[39mself\u001b[39m\u001b[39m.\u001b[39msubmission\u001b[39m.\u001b[39mid)\u001b[39m}\u001b[39;00m\u001b[39m_/\u001b[39m\u001b[39m{\u001b[39;00mcomment_id\u001b[39m}\u001b[39;00m\u001b[39m\"\u001b[39m\n\u001b[1;32m---> 54\u001b[0m     _, comments \u001b[39m=\u001b[39m \u001b[39mself\u001b[39;49m\u001b[39m.\u001b[39;49m_reddit\u001b[39m.\u001b[39;49mget(\n\u001b[0;32m     55\u001b[0m         path,\n\u001b[0;32m     56\u001b[0m         params\u001b[39m=\u001b[39;49m{\n\u001b[0;32m     57\u001b[0m             \u001b[39m\"\u001b[39;49m\u001b[39mlimit\u001b[39;49m\u001b[39m\"\u001b[39;49m: \u001b[39mself\u001b[39;49m\u001b[39m.\u001b[39;49msubmission\u001b[39m.\u001b[39;49mcomment_limit,\n\u001b[0;32m     58\u001b[0m             \u001b[39m\"\u001b[39;49m\u001b[39msort\u001b[39;49m\u001b[39m\"\u001b[39;49m: \u001b[39mself\u001b[39;49m\u001b[39m.\u001b[39;49msubmission\u001b[39m.\u001b[39;49mcomment_sort,\n\u001b[0;32m     59\u001b[0m         },\n\u001b[0;32m     60\u001b[0m     )\n\u001b[0;32m     61\u001b[0m     \u001b[39massert\u001b[39;00m \u001b[39mlen\u001b[39m(comments\u001b[39m.\u001b[39mchildren) \u001b[39m==\u001b[39m \u001b[39m1\u001b[39m, \u001b[39m\"\u001b[39m\u001b[39mPlease file a bug report with PRAW.\u001b[39m\u001b[39m\"\u001b[39m\n\u001b[0;32m     62\u001b[0m     \u001b[39mreturn\u001b[39;00m comments\u001b[39m.\u001b[39mchildren[\u001b[39m0\u001b[39m]\n",
      "File \u001b[1;32m~\\AppData\\Local\\Packages\\PythonSoftwareFoundation.Python.3.10_qbz5n2kfra8p0\\LocalCache\\local-packages\\Python310\\site-packages\\praw\\util\\deprecate_args.py:43\u001b[0m, in \u001b[0;36m_deprecate_args.<locals>.wrapper.<locals>.wrapped\u001b[1;34m(*args, **kwargs)\u001b[0m\n\u001b[0;32m     36\u001b[0m     arg_string \u001b[39m=\u001b[39m _generate_arg_string(_old_args[: \u001b[39mlen\u001b[39m(args)])\n\u001b[0;32m     37\u001b[0m     warn(\n\u001b[0;32m     38\u001b[0m         \u001b[39mf\u001b[39m\u001b[39m\"\u001b[39m\u001b[39mPositional arguments for \u001b[39m\u001b[39m{\u001b[39;00mfunc\u001b[39m.\u001b[39m\u001b[39m__qualname__\u001b[39m\u001b[39m!r}\u001b[39;00m\u001b[39m will no longer be\u001b[39m\u001b[39m\"\u001b[39m\n\u001b[0;32m     39\u001b[0m         \u001b[39mf\u001b[39m\u001b[39m\"\u001b[39m\u001b[39m supported in PRAW 8.\u001b[39m\u001b[39m\\n\u001b[39;00m\u001b[39mCall this function with \u001b[39m\u001b[39m{\u001b[39;00marg_string\u001b[39m}\u001b[39;00m\u001b[39m.\u001b[39m\u001b[39m\"\u001b[39m,\n\u001b[0;32m     40\u001b[0m         \u001b[39mDeprecationWarning\u001b[39;00m,\n\u001b[0;32m     41\u001b[0m         stacklevel\u001b[39m=\u001b[39m\u001b[39m2\u001b[39m,\n\u001b[0;32m     42\u001b[0m     )\n\u001b[1;32m---> 43\u001b[0m \u001b[39mreturn\u001b[39;00m func(\u001b[39m*\u001b[39m\u001b[39m*\u001b[39m\u001b[39mdict\u001b[39m(\u001b[39mzip\u001b[39m(_old_args, args)), \u001b[39m*\u001b[39m\u001b[39m*\u001b[39mkwargs)\n",
      "File \u001b[1;32m~\\AppData\\Local\\Packages\\PythonSoftwareFoundation.Python.3.10_qbz5n2kfra8p0\\LocalCache\\local-packages\\Python310\\site-packages\\praw\\reddit.py:712\u001b[0m, in \u001b[0;36mReddit.get\u001b[1;34m(self, path, params)\u001b[0m\n\u001b[0;32m    699\u001b[0m \u001b[39m@_deprecate_args\u001b[39m(\u001b[39m\"\u001b[39m\u001b[39mpath\u001b[39m\u001b[39m\"\u001b[39m, \u001b[39m\"\u001b[39m\u001b[39mparams\u001b[39m\u001b[39m\"\u001b[39m)\n\u001b[0;32m    700\u001b[0m \u001b[39mdef\u001b[39;00m \u001b[39mget\u001b[39m(\n\u001b[0;32m    701\u001b[0m     \u001b[39mself\u001b[39m,\n\u001b[1;32m   (...)\u001b[0m\n\u001b[0;32m    704\u001b[0m     params: Optional[Union[\u001b[39mstr\u001b[39m, Dict[\u001b[39mstr\u001b[39m, Union[\u001b[39mstr\u001b[39m, \u001b[39mint\u001b[39m]]]] \u001b[39m=\u001b[39m \u001b[39mNone\u001b[39;00m,\n\u001b[0;32m    705\u001b[0m ):\n\u001b[0;32m    706\u001b[0m     \u001b[39m\"\"\"Return parsed objects returned from a GET request to ``path``.\u001b[39;00m\n\u001b[0;32m    707\u001b[0m \n\u001b[0;32m    708\u001b[0m \u001b[39m    :param path: The path to fetch.\u001b[39;00m\n\u001b[0;32m    709\u001b[0m \u001b[39m    :param params: The query parameters to add to the request (default: ``None``).\u001b[39;00m\n\u001b[0;32m    710\u001b[0m \n\u001b[0;32m    711\u001b[0m \u001b[39m    \"\"\"\u001b[39;00m\n\u001b[1;32m--> 712\u001b[0m     \u001b[39mreturn\u001b[39;00m \u001b[39mself\u001b[39;49m\u001b[39m.\u001b[39;49m_objectify_request(method\u001b[39m=\u001b[39;49m\u001b[39m\"\u001b[39;49m\u001b[39mGET\u001b[39;49m\u001b[39m\"\u001b[39;49m, params\u001b[39m=\u001b[39;49mparams, path\u001b[39m=\u001b[39;49mpath)\n",
      "File \u001b[1;32m~\\AppData\\Local\\Packages\\PythonSoftwareFoundation.Python.3.10_qbz5n2kfra8p0\\LocalCache\\local-packages\\Python310\\site-packages\\praw\\reddit.py:517\u001b[0m, in \u001b[0;36mReddit._objectify_request\u001b[1;34m(self, data, files, json, method, params, path)\u001b[0m\n\u001b[0;32m    491\u001b[0m \u001b[39mdef\u001b[39;00m \u001b[39m_objectify_request\u001b[39m(\n\u001b[0;32m    492\u001b[0m     \u001b[39mself\u001b[39m,\n\u001b[0;32m    493\u001b[0m     \u001b[39m*\u001b[39m,\n\u001b[1;32m   (...)\u001b[0m\n\u001b[0;32m    499\u001b[0m     path: \u001b[39mstr\u001b[39m \u001b[39m=\u001b[39m \u001b[39m\"\u001b[39m\u001b[39m\"\u001b[39m,\n\u001b[0;32m    500\u001b[0m ) \u001b[39m-\u001b[39m\u001b[39m>\u001b[39m Any:\n\u001b[0;32m    501\u001b[0m     \u001b[39m\"\"\"Run a request through the ``Objector``.\u001b[39;00m\n\u001b[0;32m    502\u001b[0m \n\u001b[0;32m    503\u001b[0m \u001b[39m    :param data: Dictionary, bytes, or file-like object to send in the body of the\u001b[39;00m\n\u001b[1;32m   (...)\u001b[0m\n\u001b[0;32m    514\u001b[0m \n\u001b[0;32m    515\u001b[0m \u001b[39m    \"\"\"\u001b[39;00m\n\u001b[0;32m    516\u001b[0m     \u001b[39mreturn\u001b[39;00m \u001b[39mself\u001b[39m\u001b[39m.\u001b[39m_objector\u001b[39m.\u001b[39mobjectify(\n\u001b[1;32m--> 517\u001b[0m         \u001b[39mself\u001b[39;49m\u001b[39m.\u001b[39;49mrequest(\n\u001b[0;32m    518\u001b[0m             data\u001b[39m=\u001b[39;49mdata,\n\u001b[0;32m    519\u001b[0m             files\u001b[39m=\u001b[39;49mfiles,\n\u001b[0;32m    520\u001b[0m             json\u001b[39m=\u001b[39;49mjson,\n\u001b[0;32m    521\u001b[0m             method\u001b[39m=\u001b[39;49mmethod,\n\u001b[0;32m    522\u001b[0m             params\u001b[39m=\u001b[39;49mparams,\n\u001b[0;32m    523\u001b[0m             path\u001b[39m=\u001b[39;49mpath,\n\u001b[0;32m    524\u001b[0m         )\n\u001b[0;32m    525\u001b[0m     )\n",
      "File \u001b[1;32m~\\AppData\\Local\\Packages\\PythonSoftwareFoundation.Python.3.10_qbz5n2kfra8p0\\LocalCache\\local-packages\\Python310\\site-packages\\praw\\util\\deprecate_args.py:43\u001b[0m, in \u001b[0;36m_deprecate_args.<locals>.wrapper.<locals>.wrapped\u001b[1;34m(*args, **kwargs)\u001b[0m\n\u001b[0;32m     36\u001b[0m     arg_string \u001b[39m=\u001b[39m _generate_arg_string(_old_args[: \u001b[39mlen\u001b[39m(args)])\n\u001b[0;32m     37\u001b[0m     warn(\n\u001b[0;32m     38\u001b[0m         \u001b[39mf\u001b[39m\u001b[39m\"\u001b[39m\u001b[39mPositional arguments for \u001b[39m\u001b[39m{\u001b[39;00mfunc\u001b[39m.\u001b[39m\u001b[39m__qualname__\u001b[39m\u001b[39m!r}\u001b[39;00m\u001b[39m will no longer be\u001b[39m\u001b[39m\"\u001b[39m\n\u001b[0;32m     39\u001b[0m         \u001b[39mf\u001b[39m\u001b[39m\"\u001b[39m\u001b[39m supported in PRAW 8.\u001b[39m\u001b[39m\\n\u001b[39;00m\u001b[39mCall this function with \u001b[39m\u001b[39m{\u001b[39;00marg_string\u001b[39m}\u001b[39;00m\u001b[39m.\u001b[39m\u001b[39m\"\u001b[39m,\n\u001b[0;32m     40\u001b[0m         \u001b[39mDeprecationWarning\u001b[39;00m,\n\u001b[0;32m     41\u001b[0m         stacklevel\u001b[39m=\u001b[39m\u001b[39m2\u001b[39m,\n\u001b[0;32m     42\u001b[0m     )\n\u001b[1;32m---> 43\u001b[0m \u001b[39mreturn\u001b[39;00m func(\u001b[39m*\u001b[39m\u001b[39m*\u001b[39m\u001b[39mdict\u001b[39m(\u001b[39mzip\u001b[39m(_old_args, args)), \u001b[39m*\u001b[39m\u001b[39m*\u001b[39mkwargs)\n",
      "File \u001b[1;32m~\\AppData\\Local\\Packages\\PythonSoftwareFoundation.Python.3.10_qbz5n2kfra8p0\\LocalCache\\local-packages\\Python310\\site-packages\\praw\\reddit.py:941\u001b[0m, in \u001b[0;36mReddit.request\u001b[1;34m(self, data, files, json, method, params, path)\u001b[0m\n\u001b[0;32m    939\u001b[0m     \u001b[39mraise\u001b[39;00m ClientException(\u001b[39m\"\u001b[39m\u001b[39mAt most one of \u001b[39m\u001b[39m'\u001b[39m\u001b[39mdata\u001b[39m\u001b[39m'\u001b[39m\u001b[39m or \u001b[39m\u001b[39m'\u001b[39m\u001b[39mjson\u001b[39m\u001b[39m'\u001b[39m\u001b[39m is supported.\u001b[39m\u001b[39m\"\u001b[39m)\n\u001b[0;32m    940\u001b[0m \u001b[39mtry\u001b[39;00m:\n\u001b[1;32m--> 941\u001b[0m     \u001b[39mreturn\u001b[39;00m \u001b[39mself\u001b[39;49m\u001b[39m.\u001b[39;49m_core\u001b[39m.\u001b[39;49mrequest(\n\u001b[0;32m    942\u001b[0m         data\u001b[39m=\u001b[39;49mdata,\n\u001b[0;32m    943\u001b[0m         files\u001b[39m=\u001b[39;49mfiles,\n\u001b[0;32m    944\u001b[0m         json\u001b[39m=\u001b[39;49mjson,\n\u001b[0;32m    945\u001b[0m         method\u001b[39m=\u001b[39;49mmethod,\n\u001b[0;32m    946\u001b[0m         params\u001b[39m=\u001b[39;49mparams,\n\u001b[0;32m    947\u001b[0m         path\u001b[39m=\u001b[39;49mpath,\n\u001b[0;32m    948\u001b[0m     )\n\u001b[0;32m    949\u001b[0m \u001b[39mexcept\u001b[39;00m BadRequest \u001b[39mas\u001b[39;00m exception:\n\u001b[0;32m    950\u001b[0m     \u001b[39mtry\u001b[39;00m:\n",
      "File \u001b[1;32m~\\AppData\\Local\\Packages\\PythonSoftwareFoundation.Python.3.10_qbz5n2kfra8p0\\LocalCache\\local-packages\\Python310\\site-packages\\prawcore\\sessions.py:328\u001b[0m, in \u001b[0;36mSession.request\u001b[1;34m(self, method, path, data, files, json, params, timeout)\u001b[0m\n\u001b[0;32m    326\u001b[0m     json[\u001b[39m\"\u001b[39m\u001b[39mapi_type\u001b[39m\u001b[39m\"\u001b[39m] \u001b[39m=\u001b[39m \u001b[39m\"\u001b[39m\u001b[39mjson\u001b[39m\u001b[39m\"\u001b[39m\n\u001b[0;32m    327\u001b[0m url \u001b[39m=\u001b[39m urljoin(\u001b[39mself\u001b[39m\u001b[39m.\u001b[39m_requestor\u001b[39m.\u001b[39moauth_url, path)\n\u001b[1;32m--> 328\u001b[0m \u001b[39mreturn\u001b[39;00m \u001b[39mself\u001b[39;49m\u001b[39m.\u001b[39;49m_request_with_retries(\n\u001b[0;32m    329\u001b[0m     data\u001b[39m=\u001b[39;49mdata,\n\u001b[0;32m    330\u001b[0m     files\u001b[39m=\u001b[39;49mfiles,\n\u001b[0;32m    331\u001b[0m     json\u001b[39m=\u001b[39;49mjson,\n\u001b[0;32m    332\u001b[0m     method\u001b[39m=\u001b[39;49mmethod,\n\u001b[0;32m    333\u001b[0m     params\u001b[39m=\u001b[39;49mparams,\n\u001b[0;32m    334\u001b[0m     timeout\u001b[39m=\u001b[39;49mtimeout,\n\u001b[0;32m    335\u001b[0m     url\u001b[39m=\u001b[39;49murl,\n\u001b[0;32m    336\u001b[0m )\n",
      "File \u001b[1;32m~\\AppData\\Local\\Packages\\PythonSoftwareFoundation.Python.3.10_qbz5n2kfra8p0\\LocalCache\\local-packages\\Python310\\site-packages\\prawcore\\sessions.py:267\u001b[0m, in \u001b[0;36mSession._request_with_retries\u001b[1;34m(self, data, files, json, method, params, timeout, url, retry_strategy_state)\u001b[0m\n\u001b[0;32m    254\u001b[0m     \u001b[39mreturn\u001b[39;00m \u001b[39mself\u001b[39m\u001b[39m.\u001b[39m_do_retry(\n\u001b[0;32m    255\u001b[0m         data,\n\u001b[0;32m    256\u001b[0m         files,\n\u001b[1;32m   (...)\u001b[0m\n\u001b[0;32m    264\u001b[0m         url,\n\u001b[0;32m    265\u001b[0m     )\n\u001b[0;32m    266\u001b[0m \u001b[39mif\u001b[39;00m response\u001b[39m.\u001b[39mstatus_code \u001b[39min\u001b[39;00m \u001b[39mself\u001b[39m\u001b[39m.\u001b[39mSTATUS_EXCEPTIONS:\n\u001b[1;32m--> 267\u001b[0m     \u001b[39mraise\u001b[39;00m \u001b[39mself\u001b[39m\u001b[39m.\u001b[39mSTATUS_EXCEPTIONS[response\u001b[39m.\u001b[39mstatus_code](response)\n\u001b[0;32m    268\u001b[0m \u001b[39mif\u001b[39;00m response\u001b[39m.\u001b[39mstatus_code \u001b[39m==\u001b[39m codes[\u001b[39m\"\u001b[39m\u001b[39mno_content\u001b[39m\u001b[39m\"\u001b[39m]:\n\u001b[0;32m    269\u001b[0m     \u001b[39mreturn\u001b[39;00m \u001b[39mNone\u001b[39;00m\n",
      "\u001b[1;31mTooManyRequests\u001b[0m: received 429 HTTP response"
     ]
    }
   ],
   "source": [
    "df_comments = pd.DataFrame(columns=['Chapter_nb','level','comment'])\n",
    "\n",
    "for key,value in comments_dict.items():\n",
    "    df_comments= get_comments(df_comments,key,1,value)\n",
    "    \n",
    "\n",
    "    "
   ]
  },
  {
   "cell_type": "code",
   "execution_count": 107,
   "metadata": {},
   "outputs": [
    {
     "data": {
      "text/html": [
       "<div>\n",
       "<style scoped>\n",
       "    .dataframe tbody tr th:only-of-type {\n",
       "        vertical-align: middle;\n",
       "    }\n",
       "\n",
       "    .dataframe tbody tr th {\n",
       "        vertical-align: top;\n",
       "    }\n",
       "\n",
       "    .dataframe thead th {\n",
       "        text-align: right;\n",
       "    }\n",
       "</style>\n",
       "<table border=\"1\" class=\"dataframe\">\n",
       "  <thead>\n",
       "    <tr style=\"text-align: right;\">\n",
       "      <th></th>\n",
       "      <th>Chapter_nb</th>\n",
       "      <th>level</th>\n",
       "      <th>comment</th>\n",
       "    </tr>\n",
       "  </thead>\n",
       "  <tbody>\n",
       "    <tr>\n",
       "      <th>0</th>\n",
       "      <td>570</td>\n",
       "      <td>1</td>\n",
       "      <td>=0\\ngood chapter</td>\n",
       "    </tr>\n",
       "    <tr>\n",
       "      <th>1</th>\n",
       "      <td>570</td>\n",
       "      <td>2</td>\n",
       "      <td>It was! :D I'm really excited to see the fight...</td>\n",
       "    </tr>\n",
       "    <tr>\n",
       "      <th>2</th>\n",
       "      <td>570</td>\n",
       "      <td>1</td>\n",
       "      <td>I can't wait for chapter 571 to come out next ...</td>\n",
       "    </tr>\n",
       "    <tr>\n",
       "      <th>3</th>\n",
       "      <td>570</td>\n",
       "      <td>2</td>\n",
       "      <td>Has it come out yet?</td>\n",
       "    </tr>\n",
       "    <tr>\n",
       "      <th>4</th>\n",
       "      <td>570</td>\n",
       "      <td>1</td>\n",
       "      <td>I like that site, such high quality scans.\\n\\n...</td>\n",
       "    </tr>\n",
       "    <tr>\n",
       "      <th>...</th>\n",
       "      <td>...</td>\n",
       "      <td>...</td>\n",
       "      <td>...</td>\n",
       "    </tr>\n",
       "    <tr>\n",
       "      <th>180918</th>\n",
       "      <td>1044</td>\n",
       "      <td>1</td>\n",
       "      <td>So Joyboy is the one who have the most normal ...</td>\n",
       "    </tr>\n",
       "    <tr>\n",
       "      <th>180919</th>\n",
       "      <td>1044</td>\n",
       "      <td>1</td>\n",
       "      <td>Does anyone have a tattoo of the gum-gum fruit...</td>\n",
       "    </tr>\n",
       "    <tr>\n",
       "      <th>180920</th>\n",
       "      <td>1044</td>\n",
       "      <td>1</td>\n",
       "      <td>Luffy is the child of Dragon, the grandson of ...</td>\n",
       "    </tr>\n",
       "    <tr>\n",
       "      <th>180921</th>\n",
       "      <td>1044</td>\n",
       "      <td>1</td>\n",
       "      <td>Did anyone felt like i don't give fuck about  ...</td>\n",
       "    </tr>\n",
       "    <tr>\n",
       "      <th>180922</th>\n",
       "      <td>1044</td>\n",
       "      <td>1</td>\n",
       "      <td>Hiyori's expression was beautifully drawn</td>\n",
       "    </tr>\n",
       "  </tbody>\n",
       "</table>\n",
       "<p>180923 rows × 3 columns</p>\n",
       "</div>"
      ],
      "text/plain": [
       "       Chapter_nb  level                                            comment\n",
       "0             570      1                                   =0\\ngood chapter\n",
       "1             570      2  It was! :D I'm really excited to see the fight...\n",
       "2             570      1  I can't wait for chapter 571 to come out next ...\n",
       "3             570      2                               Has it come out yet?\n",
       "4             570      1  I like that site, such high quality scans.\\n\\n...\n",
       "...           ...    ...                                                ...\n",
       "180918       1044      1  So Joyboy is the one who have the most normal ...\n",
       "180919       1044      1  Does anyone have a tattoo of the gum-gum fruit...\n",
       "180920       1044      1  Luffy is the child of Dragon, the grandson of ...\n",
       "180921       1044      1  Did anyone felt like i don't give fuck about  ...\n",
       "180922       1044      1          Hiyori's expression was beautifully drawn\n",
       "\n",
       "[180923 rows x 3 columns]"
      ]
     },
     "metadata": {},
     "output_type": "display_data"
    }
   ],
   "source": [
    "display(df_comments)"
   ]
  },
  {
   "cell_type": "code",
   "execution_count": 109,
   "metadata": {},
   "outputs": [
    {
     "data": {
      "text/plain": [
       "1     58408\n",
       "2     47483\n",
       "3     31647\n",
       "4     20251\n",
       "5     11448\n",
       "6      6167\n",
       "7      3107\n",
       "8      1462\n",
       "9       666\n",
       "10      284\n",
       "Name: level, dtype: int64"
      ]
     },
     "execution_count": 109,
     "metadata": {},
     "output_type": "execute_result"
    }
   ],
   "source": [
    "df_comments.level.value_counts()"
   ]
  },
  {
   "cell_type": "code",
   "execution_count": 108,
   "metadata": {},
   "outputs": [
    {
     "data": {
      "text/plain": [
       "1044    500\n",
       "956     499\n",
       "1012    499\n",
       "1009    499\n",
       "1006    499\n",
       "       ... \n",
       "572       2\n",
       "583       1\n",
       "581       1\n",
       "578       1\n",
       "584       1\n",
       "Name: Chapter_nb, Length: 471, dtype: int64"
      ]
     },
     "execution_count": 108,
     "metadata": {},
     "output_type": "execute_result"
    }
   ],
   "source": [
    "df_comments.Chapter_nb.value_counts()"
   ]
  },
  {
   "cell_type": "code",
   "execution_count": 84,
   "metadata": {},
   "outputs": [
    {
     "data": {
      "text/html": [
       "<div>\n",
       "<style scoped>\n",
       "    .dataframe tbody tr th:only-of-type {\n",
       "        vertical-align: middle;\n",
       "    }\n",
       "\n",
       "    .dataframe tbody tr th {\n",
       "        vertical-align: top;\n",
       "    }\n",
       "\n",
       "    .dataframe thead th {\n",
       "        text-align: right;\n",
       "    }\n",
       "</style>\n",
       "<table border=\"1\" class=\"dataframe\">\n",
       "  <thead>\n",
       "    <tr style=\"text-align: right;\">\n",
       "      <th></th>\n",
       "      <th>Chapter_nb</th>\n",
       "      <th>level</th>\n",
       "      <th>comment</th>\n",
       "    </tr>\n",
       "  </thead>\n",
       "  <tbody>\n",
       "    <tr>\n",
       "      <th>309</th>\n",
       "      <td>616</td>\n",
       "      <td>10</td>\n",
       "      <td>Ain't that the first thing Luffy checks before...</td>\n",
       "    </tr>\n",
       "    <tr>\n",
       "      <th>311</th>\n",
       "      <td>616</td>\n",
       "      <td>10</td>\n",
       "      <td>You mean characters like Wiper, Paulie, Margar...</td>\n",
       "    </tr>\n",
       "    <tr>\n",
       "      <th>312</th>\n",
       "      <td>616</td>\n",
       "      <td>10</td>\n",
       "      <td>You sir, know your stuff.</td>\n",
       "    </tr>\n",
       "    <tr>\n",
       "      <th>456</th>\n",
       "      <td>626</td>\n",
       "      <td>10</td>\n",
       "      <td>I thought it was really touching. He wanted to...</td>\n",
       "    </tr>\n",
       "    <tr>\n",
       "      <th>627</th>\n",
       "      <td>634</td>\n",
       "      <td>10</td>\n",
       "      <td>Royal Shichibukai Buggy reporting for duty?</td>\n",
       "    </tr>\n",
       "    <tr>\n",
       "      <th>...</th>\n",
       "      <td>...</td>\n",
       "      <td>...</td>\n",
       "      <td>...</td>\n",
       "    </tr>\n",
       "    <tr>\n",
       "      <th>155262</th>\n",
       "      <td>993</td>\n",
       "      <td>10</td>\n",
       "      <td>Law, Shanks, Kidd, Perispero, Nekomamushi, Qu...</td>\n",
       "    </tr>\n",
       "    <tr>\n",
       "      <th>161731</th>\n",
       "      <td>1006</td>\n",
       "      <td>10</td>\n",
       "      <td>Well only the higher ups lol. The fodder can g...</td>\n",
       "    </tr>\n",
       "    <tr>\n",
       "      <th>167726</th>\n",
       "      <td>1018</td>\n",
       "      <td>10</td>\n",
       "      <td>I feel Jack and Sasaki might be special cases ...</td>\n",
       "    </tr>\n",
       "    <tr>\n",
       "      <th>167778</th>\n",
       "      <td>1018</td>\n",
       "      <td>10</td>\n",
       "      <td>Jolly broski even</td>\n",
       "    </tr>\n",
       "    <tr>\n",
       "      <th>173538</th>\n",
       "      <td>1030</td>\n",
       "      <td>10</td>\n",
       "      <td>Sanji: On being a monster, I'll pass</td>\n",
       "    </tr>\n",
       "  </tbody>\n",
       "</table>\n",
       "<p>284 rows × 3 columns</p>\n",
       "</div>"
      ],
      "text/plain": [
       "       Chapter_nb  level                                            comment\n",
       "309           616     10  Ain't that the first thing Luffy checks before...\n",
       "311           616     10  You mean characters like Wiper, Paulie, Margar...\n",
       "312           616     10                        You sir, know your stuff.  \n",
       "456           626     10  I thought it was really touching. He wanted to...\n",
       "627           634     10        Royal Shichibukai Buggy reporting for duty?\n",
       "...           ...    ...                                                ...\n",
       "155262        993     10   Law, Shanks, Kidd, Perispero, Nekomamushi, Qu...\n",
       "161731       1006     10  Well only the higher ups lol. The fodder can g...\n",
       "167726       1018     10  I feel Jack and Sasaki might be special cases ...\n",
       "167778       1018     10                                  Jolly broski even\n",
       "173538       1030     10               Sanji: On being a monster, I'll pass\n",
       "\n",
       "[284 rows x 3 columns]"
      ]
     },
     "metadata": {},
     "output_type": "display_data"
    }
   ],
   "source": [
    "display(df_comments[df_comments.level==10])"
   ]
  },
  {
   "cell_type": "code",
   "execution_count": 77,
   "metadata": {},
   "outputs": [],
   "source": [
    "df_comments.to_csv('comments_data.csv')"
   ]
  },
  {
   "cell_type": "code",
   "execution_count": 49,
   "metadata": {},
   "outputs": [
    {
     "name": "stdout",
     "output_type": "stream",
     "text": [
      "c0is06a\n"
     ]
    }
   ],
   "source": []
  }
 ],
 "metadata": {
  "kernelspec": {
   "display_name": "Python 3",
   "language": "python",
   "name": "python3"
  },
  "language_info": {
   "codemirror_mode": {
    "name": "ipython",
    "version": 3
   },
   "file_extension": ".py",
   "mimetype": "text/x-python",
   "name": "python",
   "nbconvert_exporter": "python",
   "pygments_lexer": "ipython3",
   "version": "3.10.11"
  },
  "orig_nbformat": 4
 },
 "nbformat": 4,
 "nbformat_minor": 2
}
